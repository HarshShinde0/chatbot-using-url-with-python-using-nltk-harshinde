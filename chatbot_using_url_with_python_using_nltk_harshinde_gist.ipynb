{
  "cells": [
    {
      "cell_type": "markdown",
      "metadata": {
        "id": "view-in-github",
        "colab_type": "text"
      },
      "source": [
        "<a href=\"https://colab.research.google.com/github/HarshShinde0/chatbot-using-url-with-python-using-nltk-harshinde/blob/main/chatbot_using_url_with_python_using_nltk_harshinde_gist.ipynb\" target=\"_parent\"><img src=\"https://colab.research.google.com/assets/colab-badge.svg\" alt=\"Open In Colab\"/></a>"
      ]
    },
    {
      "cell_type": "markdown",
      "metadata": {
        "id": "2PIIii4PyTyb"
      },
      "source": [
        "# ****Building a Simple Chatbot using Wikipedia URL in Python (using NLTK)****"
      ]
    },
    {
      "cell_type": "markdown",
      "metadata": {
        "id": "YsiXYvL-yTyd"
      },
      "source": [
        "# Project By Harsh Shinde\n",
        "Reference - Parul Pandey"
      ]
    },
    {
      "cell_type": "markdown",
      "metadata": {
        "id": "YETwVDnSyTyd"
      },
      "source": [
        "# NLP\n",
        "NLP is a way for computers to analyze, understand, and derive meaning from human language in a smart and useful way. By utilizing NLP, developers can organize and structure knowledge to perform tasks such as automatic summarization, translation, named entity recognition, relationship extraction, sentiment analysis, speech recognition, and topic segmentation."
      ]
    },
    {
      "cell_type": "code",
      "execution_count": null,
      "metadata": {
        "id": "xAxpnRp3yTyd"
      },
      "outputs": [],
      "source": [
        "import io\n",
        "import random\n",
        "import string\n",
        "import warnings\n",
        "import numpy as np\n",
        "from sklearn.feature_extraction.text import TfidfVectorizer\n",
        "from sklearn.metrics.pairwise import cosine_similarity\n",
        "import warnings\n",
        "warnings.filterwarnings('ignore')"
      ]
    },
    {
      "cell_type": "markdown",
      "metadata": {
        "id": "ZcY_LjR0yTye"
      },
      "source": [
        "# Downloading and installing NLTK\n",
        "NLTK(Natural Language Toolkit) is a leading platform for building Python programs to work with human language data. It provides easy-to-use interfaces to over 50 corpora and lexical resources such as WordNet, along with a suite of text processing libraries for classification, tokenization, stemming, tagging, parsing, and semantic reasoning, wrappers for industrial-strength NLP libraries.\n",
        "\n",
        "[Natural Language Processing with Python](http://www.nltk.org/book/) provides a practical introduction to programming for language processing.\n",
        "\n",
        "For platform-specific instructions, read [here](https://www.nltk.org/install.html)"
      ]
    },
    {
      "cell_type": "code",
      "execution_count": null,
      "metadata": {
        "colab": {
          "base_uri": "https://localhost:8080/"
        },
        "id": "Zgn1_4pDyTyf",
        "outputId": "2b34f8d7-6d2d-4fb9-8d64-adbe167ba033"
      },
      "outputs": [
        {
          "output_type": "stream",
          "name": "stdout",
          "text": [
            "Requirement already satisfied: nltk in /usr/local/lib/python3.10/dist-packages (3.8.1)\n",
            "Requirement already satisfied: click in /usr/local/lib/python3.10/dist-packages (from nltk) (8.1.7)\n",
            "Requirement already satisfied: joblib in /usr/local/lib/python3.10/dist-packages (from nltk) (1.3.2)\n",
            "Requirement already satisfied: regex>=2021.8.3 in /usr/local/lib/python3.10/dist-packages (from nltk) (2023.12.25)\n",
            "Requirement already satisfied: tqdm in /usr/local/lib/python3.10/dist-packages (from nltk) (4.66.2)\n"
          ]
        }
      ],
      "source": [
        "pip install nltk"
      ]
    },
    {
      "cell_type": "code",
      "execution_count": null,
      "metadata": {
        "colab": {
          "base_uri": "https://localhost:8080/"
        },
        "id": "9DsrC6Umq19Y",
        "outputId": "a3b4dc85-99fe-405a-fd3d-6816765cb9d3"
      },
      "outputs": [
        {
          "output_type": "stream",
          "name": "stdout",
          "text": [
            "Collecting newspaper3k\n",
            "  Downloading newspaper3k-0.2.8-py3-none-any.whl (211 kB)\n",
            "\u001b[?25l     \u001b[90m━━━━━━━━━━━━━━━━━━━━━━━━━━━━━━━━━━━━━━━━\u001b[0m \u001b[32m0.0/211.1 kB\u001b[0m \u001b[31m?\u001b[0m eta \u001b[36m-:--:--\u001b[0m\r\u001b[2K     \u001b[90m━━━━━━━━━━━━━━━━━━━━━━━━━━━━━━━━━━━━━━━━\u001b[0m \u001b[32m211.1/211.1 kB\u001b[0m \u001b[31m7.2 MB/s\u001b[0m eta \u001b[36m0:00:00\u001b[0m\n",
            "\u001b[?25hRequirement already satisfied: beautifulsoup4>=4.4.1 in /usr/local/lib/python3.10/dist-packages (from newspaper3k) (4.12.3)\n",
            "Requirement already satisfied: Pillow>=3.3.0 in /usr/local/lib/python3.10/dist-packages (from newspaper3k) (9.4.0)\n",
            "Requirement already satisfied: PyYAML>=3.11 in /usr/local/lib/python3.10/dist-packages (from newspaper3k) (6.0.1)\n",
            "Collecting cssselect>=0.9.2 (from newspaper3k)\n",
            "  Downloading cssselect-1.2.0-py2.py3-none-any.whl (18 kB)\n",
            "Requirement already satisfied: lxml>=3.6.0 in /usr/local/lib/python3.10/dist-packages (from newspaper3k) (4.9.4)\n",
            "Requirement already satisfied: nltk>=3.2.1 in /usr/local/lib/python3.10/dist-packages (from newspaper3k) (3.8.1)\n",
            "Requirement already satisfied: requests>=2.10.0 in /usr/local/lib/python3.10/dist-packages (from newspaper3k) (2.31.0)\n",
            "Collecting feedparser>=5.2.1 (from newspaper3k)\n",
            "  Downloading feedparser-6.0.11-py3-none-any.whl (81 kB)\n",
            "\u001b[2K     \u001b[90m━━━━━━━━━━━━━━━━━━━━━━━━━━━━━━━━━━━━━━━━\u001b[0m \u001b[32m81.3/81.3 kB\u001b[0m \u001b[31m11.2 MB/s\u001b[0m eta \u001b[36m0:00:00\u001b[0m\n",
            "\u001b[?25hCollecting tldextract>=2.0.1 (from newspaper3k)\n",
            "  Downloading tldextract-5.1.1-py3-none-any.whl (97 kB)\n",
            "\u001b[2K     \u001b[90m━━━━━━━━━━━━━━━━━━━━━━━━━━━━━━━━━━━━━━━━\u001b[0m \u001b[32m97.7/97.7 kB\u001b[0m \u001b[31m9.7 MB/s\u001b[0m eta \u001b[36m0:00:00\u001b[0m\n",
            "\u001b[?25hCollecting feedfinder2>=0.0.4 (from newspaper3k)\n",
            "  Downloading feedfinder2-0.0.4.tar.gz (3.3 kB)\n",
            "  Preparing metadata (setup.py) ... \u001b[?25l\u001b[?25hdone\n",
            "Collecting jieba3k>=0.35.1 (from newspaper3k)\n",
            "  Downloading jieba3k-0.35.1.zip (7.4 MB)\n",
            "\u001b[2K     \u001b[90m━━━━━━━━━━━━━━━━━━━━━━━━━━━━━━━━━━━━━━━━\u001b[0m \u001b[32m7.4/7.4 MB\u001b[0m \u001b[31m25.1 MB/s\u001b[0m eta \u001b[36m0:00:00\u001b[0m\n",
            "\u001b[?25h  Preparing metadata (setup.py) ... \u001b[?25l\u001b[?25hdone\n",
            "Requirement already satisfied: python-dateutil>=2.5.3 in /usr/local/lib/python3.10/dist-packages (from newspaper3k) (2.8.2)\n",
            "Collecting tinysegmenter==0.3 (from newspaper3k)\n",
            "  Downloading tinysegmenter-0.3.tar.gz (16 kB)\n",
            "  Preparing metadata (setup.py) ... \u001b[?25l\u001b[?25hdone\n",
            "Requirement already satisfied: soupsieve>1.2 in /usr/local/lib/python3.10/dist-packages (from beautifulsoup4>=4.4.1->newspaper3k) (2.5)\n",
            "Requirement already satisfied: six in /usr/local/lib/python3.10/dist-packages (from feedfinder2>=0.0.4->newspaper3k) (1.16.0)\n",
            "Collecting sgmllib3k (from feedparser>=5.2.1->newspaper3k)\n",
            "  Downloading sgmllib3k-1.0.0.tar.gz (5.8 kB)\n",
            "  Preparing metadata (setup.py) ... \u001b[?25l\u001b[?25hdone\n",
            "Requirement already satisfied: click in /usr/local/lib/python3.10/dist-packages (from nltk>=3.2.1->newspaper3k) (8.1.7)\n",
            "Requirement already satisfied: joblib in /usr/local/lib/python3.10/dist-packages (from nltk>=3.2.1->newspaper3k) (1.3.2)\n",
            "Requirement already satisfied: regex>=2021.8.3 in /usr/local/lib/python3.10/dist-packages (from nltk>=3.2.1->newspaper3k) (2023.12.25)\n",
            "Requirement already satisfied: tqdm in /usr/local/lib/python3.10/dist-packages (from nltk>=3.2.1->newspaper3k) (4.66.2)\n",
            "Requirement already satisfied: charset-normalizer<4,>=2 in /usr/local/lib/python3.10/dist-packages (from requests>=2.10.0->newspaper3k) (3.3.2)\n",
            "Requirement already satisfied: idna<4,>=2.5 in /usr/local/lib/python3.10/dist-packages (from requests>=2.10.0->newspaper3k) (3.6)\n",
            "Requirement already satisfied: urllib3<3,>=1.21.1 in /usr/local/lib/python3.10/dist-packages (from requests>=2.10.0->newspaper3k) (2.0.7)\n",
            "Requirement already satisfied: certifi>=2017.4.17 in /usr/local/lib/python3.10/dist-packages (from requests>=2.10.0->newspaper3k) (2024.2.2)\n",
            "Collecting requests-file>=1.4 (from tldextract>=2.0.1->newspaper3k)\n",
            "  Downloading requests_file-2.0.0-py2.py3-none-any.whl (4.2 kB)\n",
            "Requirement already satisfied: filelock>=3.0.8 in /usr/local/lib/python3.10/dist-packages (from tldextract>=2.0.1->newspaper3k) (3.13.1)\n",
            "Building wheels for collected packages: tinysegmenter, feedfinder2, jieba3k, sgmllib3k\n",
            "  Building wheel for tinysegmenter (setup.py) ... \u001b[?25l\u001b[?25hdone\n",
            "  Created wheel for tinysegmenter: filename=tinysegmenter-0.3-py3-none-any.whl size=13538 sha256=39bfb19b5b357beb0490e3560b8009149161e0aaa21a8d425c2a827742451e11\n",
            "  Stored in directory: /root/.cache/pip/wheels/c8/d6/6c/384f58df48c00b9a31d638005143b5b3ac62c3d25fb1447f23\n",
            "  Building wheel for feedfinder2 (setup.py) ... \u001b[?25l\u001b[?25hdone\n",
            "  Created wheel for feedfinder2: filename=feedfinder2-0.0.4-py3-none-any.whl size=3340 sha256=7a6abaa1c07c5a80a7c1d4132f48378cba8bbcd4eed0baefe21732ba91a23091\n",
            "  Stored in directory: /root/.cache/pip/wheels/97/02/e7/a1ff1760e12bdbaab0ac824fae5c1bc933e41c4ccd6a8f8edb\n",
            "  Building wheel for jieba3k (setup.py) ... \u001b[?25l\u001b[?25hdone\n",
            "  Created wheel for jieba3k: filename=jieba3k-0.35.1-py3-none-any.whl size=7398381 sha256=63202166fc65ce8b1b733a86cde2f6647d862a91af39f7672d7298a9b42c93e1\n",
            "  Stored in directory: /root/.cache/pip/wheels/7a/c4/0c/12a9a314ecac499456c4c3b2fcc2f635a3b45a39dfbd240299\n",
            "  Building wheel for sgmllib3k (setup.py) ... \u001b[?25l\u001b[?25hdone\n",
            "  Created wheel for sgmllib3k: filename=sgmllib3k-1.0.0-py3-none-any.whl size=6048 sha256=dd81fb84cd45d9b18bf7f23bd1d2cea6937d3808d480641afe6ab3799e5fd2a2\n",
            "  Stored in directory: /root/.cache/pip/wheels/f0/69/93/a47e9d621be168e9e33c7ce60524393c0b92ae83cf6c6e89c5\n",
            "Successfully built tinysegmenter feedfinder2 jieba3k sgmllib3k\n",
            "Installing collected packages: tinysegmenter, sgmllib3k, jieba3k, feedparser, cssselect, requests-file, feedfinder2, tldextract, newspaper3k\n",
            "Successfully installed cssselect-1.2.0 feedfinder2-0.0.4 feedparser-6.0.11 jieba3k-0.35.1 newspaper3k-0.2.8 requests-file-2.0.0 sgmllib3k-1.0.0 tinysegmenter-0.3 tldextract-5.1.1\n"
          ]
        }
      ],
      "source": [
        "pip install newspaper3k"
      ]
    },
    {
      "cell_type": "code",
      "execution_count": null,
      "metadata": {
        "colab": {
          "base_uri": "https://localhost:8080/"
        },
        "id": "HUwotm-6yTyg",
        "outputId": "226fec93-4b24-46c1-c02c-159118cc2da2"
      },
      "outputs": [
        {
          "output_type": "execute_result",
          "data": {
            "text/plain": [
              "True"
            ]
          },
          "metadata": {},
          "execution_count": 4
        }
      ],
      "source": [
        "import nltk\n",
        "from nltk.stem import WordNetLemmatizer\n",
        "nltk.download('popular', quiet=True)"
      ]
    },
    {
      "cell_type": "code",
      "execution_count": null,
      "metadata": {
        "id": "oOnyfb4kq_on"
      },
      "outputs": [],
      "source": [
        "#import the packages\n",
        "from newspaper import Article\n",
        "import random\n",
        "import string\n",
        "import numpy as np\n",
        "import warnings\n",
        "import nltk\n",
        "from sklearn.feature_extraction.text import TfidfVectorizer\n",
        "from sklearn.metrics.pairwise import cosine_similarity"
      ]
    },
    {
      "cell_type": "code",
      "execution_count": null,
      "metadata": {
        "id": "Rp9int5Usw7Q"
      },
      "outputs": [],
      "source": [
        "#ignore the warnings\n",
        "warnings.filterwarnings('ignore')"
      ]
    },
    {
      "cell_type": "code",
      "execution_count": null,
      "metadata": {
        "colab": {
          "base_uri": "https://localhost:8080/"
        },
        "id": "IPr4Bk1Gs_Yh",
        "outputId": "2c4f10f0-1596-483a-8ac6-9a6ae5b92748"
      },
      "outputs": [
        {
          "output_type": "execute_result",
          "data": {
            "text/plain": [
              "True"
            ]
          },
          "metadata": {},
          "execution_count": 7
        }
      ],
      "source": [
        "#download package from nltk\n",
        "nltk.download('punkt',quiet=True)\n",
        "nltk.download('wordnet',quiet=True)\n"
      ]
    },
    {
      "cell_type": "code",
      "execution_count": null,
      "metadata": {
        "colab": {
          "base_uri": "https://localhost:8080/"
        },
        "id": "hm3DE-DR8NQ_",
        "outputId": "c025ce86-e6e0-4bdc-b102-91706bdfb745"
      },
      "outputs": [
        {
          "output_type": "stream",
          "name": "stdout",
          "text": [
            "Earth is the third planet from the Sun in the Solar System. It is the only planet known to have life on it. The Earth formed about 4.6 billion years ago.[29][30]\n",
            "\n",
            "It is one of four rocky planets on the inner side of the Solar System. The other three are Mercury, Venus, and Mars.\n",
            "\n",
            "The large mass of the Sun keeps the Earth in orbit through the force of gravity.[31] Earth also turns around in space, so that different parts face the Sun at different times. Earth goes around the Sun once (one year) for every 365​1⁄ 4 times it turns around (one day).\n",
            "\n",
            "Earth is the only planet in the Solar System that has a large amount of liquid water on its surface.[32][33][34] About 71% of the surface of Earth is covered by liquid or frozen water.[35] Because of this, people sometimes call it the blue planet.[36]\n",
            "\n",
            "Because of its water, Earth is home to millions of species of plants and animals which need water to survive.[37][38] The things that live on Earth have changed its surface greatly. For example, early cyanobacteria changed the air and gave it oxygen. The living part of Earth's surface is called the \"biosphere\".[39]\n",
            "\n",
            "Orbit and turning [ change | change source ]\n",
            "\n",
            "Earth turns at an angle (an \"axial tilt\") in relation to its path around the Sun\n",
            "\n",
            "Earth is one of the eight planets in the Solar System. There are also thousands of small bodies which move around the Sun. The Solar System is moving through the Orion Arm of the Milky Way galaxy, and will be for about the next 10,000 years.[40][41]\n",
            "\n",
            "Earth is about 150,000,000 kilometres or 93,000,000 miles away from the Sun (this distance is called an \"astronomical unit\" or au. It moves on its orbit at an average speed of about 30 km/s (19 mi/s).[42] Earth turns all the way around about 365​1⁄ 4 times in the time it takes for Earth to go all the way around the Sun.[4] To make up this extra bit of a day every year, an additional day is used every four years. This is named a \"leap year\".\n",
            "\n",
            "The Moon goes around Earth at an average distance of 400,000 kilometres or 250,000 miles. It is locked to Earth, so that it always has the same half facing Earth; the other half is called the \"dark side of the moon\". It takes about 27​1⁄ 3 days for the Moon to go all the way around Earth, but because Earth is moving around the Sun at the same time, it takes about 29​1⁄ 2 days for the Moon to go from dark to bright to dark again. This is where the word \"month\" came from, even though most months now have 30 or 31 days.[43]\n",
            "\n",
            "History of Earth [ change | change source ]\n",
            "\n",
            "Earth and the other planets formed about 4.6 billion years ago.[44] Their origin was different from that of the Sun. The Sun was formed almost entirely of hydrogen, while the planets were formed mostly from higher elements. The smaller \"rocky\" planets are made almost entirely of higher elements. The Sun must have moved through areas where supernovae had previously exploded.[45] All the planets have higher elements which are only made in supernovae.[46][47][48] Only the so-called \"gas giants\" have much hydrogen and helium.\n",
            "\n",
            "The Moon may have been formed after a collision between the early Earth and a smaller planet (sometimes called Theia). Scientists believe that parts of both planets broke off – becoming (by gravity) the Moon.[49]\n",
            "\n",
            "Earth's water came from different places. Condensing water vapour, and comets and asteroids hitting Earth, made the oceans. Within a billion years (that is at about 3.6 billion years ago) the first life evolved, in the Archaean era.[50][51] Some bacteria developed photosynthesis, which let them make food from the Sun's light and water. This released a lot of oxygen, which was first taken up by iron in solution. After a long time, enough oxygen got into the atmosphere or air, making Earth's surface suitable for aerobic life (see Great Oxygenation Event). This oxygen also formed the ozone layer which protects life from ultraviolet radiation from the Sun. Complex life on the surface of the land did not exist before the ozone layer.[52]\n",
            "\n",
            "Earth's land and climate has been very different in the past. About 3 to 3.5 billion years ago almost all land was in one place. This is called a supercontinent. The earliest known supercontinent was called Vaalbara. Much later, there many times the Earth was covered in ice sheets. (For example, the Cryogenian).[53] This is called the Snowball Earth theory.[53]\n",
            "\n",
            "Geology of Earth [ change | change source ]\n",
            "\n",
            "Earth is rocky. It is the largest of the rocky planets moving around the Sun by mass and by size. It is much smaller than the gas giants such as Jupiter.\n",
            "\n",
            "Overall, Earth is made of iron (32.1%), oxygen (30.1%), silicon (15.1%), magnesium (13.9%), sulfur (2.9%), nickel (1.8%), calcium (1.5%), and aluminium (1.4%). The 1.2% left over is made of many different kinds of other chemicals. Some rare metals (not just gold and platinum) are very valuable. Rare earth metals are often used in electronic phones and computers.[54]\n",
            "\n",
            "The structure of Earth changes from the inside to the outside. The center of Earth (Earth's core) is mostly iron (88.8%), nickel (5.8%), sulfur (4.5%), and less than 1% other elements.[55] The Earth's crust is largely oxygen (47%). Oxygen is normally a gas but it can join with other chemicals to make compounds like water and rocks. 99.22% of rocks have oxygen in them. The most common rocks with oxygen are silica (made with silicon), alumina (made with aluminium), rust (made with iron), lime (made with calcium), magnesia (made with magnesium), potash (made with potassium), and sodium oxide.[56]\n",
            "\n",
            "The Earth is the densest of all the planets.[57] It has a lot of heavy metals in it.[58]\n",
            "\n",
            "Earth's shape is a spheroid: not quite a sphere because it is slightly squashed on the top and bottom. The shape is called an oblate spheroid. As Earth spins around itself, centrifugal force forces the equator out a little and pulls the poles in a little. The equator, around the middle of Earth's surface, is about 40,075 kilometers or 24,900 miles long.[59] The reason the Earth is roughly a sphere (and so are all planets and stars) is gravity.[60] Meteorites, on the other hand may be any shape because, in their case, the force of gravity is too weak to change their shape.\n",
            "\n",
            "The highest mountain above sea level—the well-known Mount Everest (which is 8,848 metres or 29,029 feet above sea level)—is not actually the one that is the farthest away from the center of the Earth. Instead, the sleeping volcano Mount Chimborazo in Ecuador is; it is only 6,263 metres or 20,548 feet above sea level but it is almost at the equator. Because of this, Mount Chimborazo is 6,384 kilometres or 3,967 miles from the center of the Earth, while Mount Everest is closer to it (2 kilometres or 1.2 miles).[61][62][63] Similarly, the lowest point below sea level that we are conscious of is the Challenger Deep in the Mariana Trench in the Pacific Ocean. It is about 10,971 metres or 35,994 feet below sea level,[64] but, again, there are probably places at the bottom of the Arctic Ocean that are nearer to the center of the Earth.\n",
            "\n",
            "A picture of the inside of the Earth, showing the different levels. In fact, the air and the outside levels are much thinner than shown here\n",
            "\n",
            "The deepest hole ever dug is only about 12.3 kilometers or 7.6 miles. We know something about the inside of the Earth, because we learn things from earthquakes and volcanic eruptions. We can detect how quickly shock waves move through the Earth.\n",
            "\n",
            "The inside of Earth is very different from the outside. Almost all of Earth's liquid water is in the seas or close to the surface. The surface also has a lot of oxygen, which comes from plants. Small and simple kinds of life can live far under the surface, but animals and plants only live on the surface or in the seas. The rocks on the surface of Earth (Earth's crust) are well known. They are thicker where there is land, between 30 to 50 km or 19 to 31 mi thick. Under the seas they are sometimes only 6 km or 3.7 mi thick.[65]\n",
            "\n",
            "There are three groups of rocks that make up most of the Earth's crust. Some rock is made when the hot liquid rock comes from inside the earth (igneous rocks); another type of rock is made when sediment is laid down, usually under the sea (sedimentary rocks); and a third kind of rock is made when the other two are changed by very high temperature or pressure (metamorphic rocks).\n",
            "\n",
            "Below the crust is hot and almost-liquid rock which is always moving around (the Earth's mantle). Then, there is a thin liquid layer of heated rock (the outer core). This is very hot: 7,000 °C or 13,000 °F or 7,300 K.[66] The middle of the inside of the Earth would be liquid as well but all the pressure of the rock above it makes it a solid. This solid middle part (the inner core) is almost all iron. It is what makes the Earth magnetic.\n",
            "\n",
            "Pieces of the crust form plates [ change | change source ]\n",
            "\n",
            "A picture showing the Earth's largest and most important plates.\n",
            "\n",
            "See the main article: Plate tectonics\n",
            "\n",
            "The Earth's crust is solid but made of parts which move very slowly.[67] The thin skin of hard rock on the outside of the Earth rests on hot liquid material below it in the deeper mantle.[68] This liquid material moves because it gets heat from the hot center of the Earth. The slow movement of the plates is a factor in earthquakes, volcanoes and large groups of mountains on the Earth.\n",
            "\n",
            "There are three ways plates can come together. Two plates can move towards each other (\"convergent\" plate edges). This can form islands, volcanoes, and high mountain ranges (such as the Andes and Himalayas).[69] Two plates can move away from each other (\"divergent\" plate edges). This gives the warm liquid rock inside the earth a place to come out. This makes special mountain ranges below the sea or large low lands like Africa's Great Rift Valley.[70][71] Plates are able to move beside each other as well (\"transform\" plate edges, such as the San Andreas Fault). This makes their edges crush against each other and makes many shocks as they move.[72]\n",
            "\n",
            "The outside of the Earth is not even. There are high places called mountains, and high flat places called plateaus or plateaux. There are low places called valleys and canyons. For the most part, moving air and water from the sky and seas eats away at rocks in high places and breaks them into small pieces. The air and water then move these pieces to lower places. The fundamental cause of the differences in the Earth's surface is plate tectonics. The shape of the entire planet itself is not a exactly a ball. Because of its spin, Earth has a slight bulge at the Equator.\n",
            "\n",
            "All places on Earth are made of, or are on top of, rocks. The outside of the Earth is usually not uncovered rock. Over 70% of the Earth is covered by seas full of salty water.[73] This salty water makes up about 97​1⁄ 2 % of all Earth's water. The drinkable fresh water is mostly in the form of ice. There is only a small amount (less than 3%) of fresh water in rivers and under the ground for people to drink.[74] Gravity stops the water from going away into outer space. Also, much of the land on Earth is covered with plants, or with what is left from earlier living things. Places with very little rain are dry wastes called deserts. Deserts usually have few living things, but life is able to grow very quickly when these wastes have rainfall. Places with large amounts of rain may be rain forests. Lately, people have changed the environment of the Earth a great deal. As population has increased, so has farming. Farming is done on what were once natural forests and grassland.[75][76]\n",
            "\n",
            "See the main article: Atmosphere\n",
            "\n",
            "All around the Earth is the of air (the atmosphere). The mass of the Earth holds the gasses in the air down and does not let them go into outer space. The air is mostly made of nitrogen (about 78%) and oxygen (about 21%) and there are a few other gasses as well.[77] Living things need both the air and water.\n",
            "\n",
            "The air, which animals and plants use to live, is only the first level of the air around the Earth (the troposphere). The day to day changes in this level of air are called weather; the larger differences between distant places, and from year to year, are called the climate. Rain and storms come about because this part of the air gets colder as it goes up. Cold air becomes thicker and falls, and warm air becomes thinner and goes up.[78] The turning Earth also moves the air as well and air moves north and south because the middle of the Earth generally gets more power from the Sun and is warmer than the north and south points. Air over warm water evaporates but, because cold air is not able to take in as much water, it starts to make clouds and rain as it gets colder. The way water moves around in a circle like this is called the water cycle.[78]\n",
            "\n",
            "Above this first level, there are four other levels. The air gets colder as it goes up in the first level; in the second level (the stratosphere), the air gets warmer as it goes up. This level has a special kind of oxygen called ozone. The ozone in this air keeps living things safe from damaging rays from the Sun. The power from these rays is what makes this level warmer and warmer. The middle level (the mesosphere) gets colder and colder with height; the fourth level (the thermosphere) gets warmer and warmer; and the last level (the exosphere) is almost outer space and has very little air at all. It reaches about half the way to the Moon. The three outer levels have a lot of electric power moving through them; this is called the ionosphere and is important for radio and other electric waves in the air.\n",
            "\n",
            "Even though air seems very light, the weight of all of the air above the outside of the Earth (air pressure) is important. Generally, from sea level to the top of the outer level of the air, a space of air one cm2 across has a mass of about 1.03 kg and a space of air one sq in across has a weight of about 14.7 lb. Because of friction in the air, small meteorites generally burn up long before they get to the Earth.\n",
            "\n",
            "The air also keeps the Earth warm, specially the half turned away from the Sun. Some gasses – especially methane and carbon dioxide – work like a blanket to keep things warm.[79] In the past, the Earth has been much warmer and much colder than it is now. Since people have adapted to the heat we have now, we do not want the Earth to be too much warmer or colder. Most of the ways people create electric power use burning kinds of carbon – especially coal, oil, and natural gas. Burning these fuels creates more carbon dioxide which causes more warming. A discussion is going on now about what people should do about the Earth's latest warming, which has gone on for about 150 years. So far, this warming has been acceptable: plants have grown better. The weather has generally been better than when it was colder.\n",
            "\n",
            "See the main article: Human\n",
            "\n",
            "About eight billion people live on Earth. They live in about 200 different lands called countries. Some, for example, Russia, are large with many large cities. Others, for example, Vatican City, are small. The seven countries with the most people are India, China, the United States, Indonesia, Pakistan, Brazil and Nigeria. About 90% of people live in the northern hemisphere of the world, which has most of the land. Human beings originally came from Africa. Now, 70% of all people do not live in Africa but in Europe and Asia.[80]\n",
            "\n",
            "The distribution of human world population in 2018\n",
            "\n",
            "People change the Earth in many ways. They have been able to grow plants for food and clothes for about ten thousand years. When there was enough food, they were able to build towns and cities. Near these places, men and women were able to change rivers, bring water to farms, and stop floods (rising water) from coming over their land. People found useful animals and bred them so they were easier to keep.[81]\n",
            "\n",
            "There is wide agreement that the long-term future of Earth is tied to the future of the Sun.[82] As time passes, the Sun will get hotter, and that will eventually make the Earth a planet without life.\n",
            "\n",
            "Related pages [ change | change source ]\n"
          ]
        }
      ],
      "source": [
        "#get artical url\n",
        "article= Article('https://simple.wikipedia.org/wiki/Earth')\n",
        "article.download()\n",
        "article.parse()\n",
        "article.nlp()\n",
        "corpus=article.text\n",
        "#print\n",
        "print(corpus)"
      ]
    },
    {
      "cell_type": "code",
      "execution_count": null,
      "metadata": {
        "colab": {
          "base_uri": "https://localhost:8080/"
        },
        "id": "Mrr2K1g-u0zd",
        "outputId": "3327266a-c4f8-4384-d702-1f539dfd42c4"
      },
      "outputs": [
        {
          "output_type": "stream",
          "name": "stdout",
          "text": [
            "['Earth is the third planet from the Sun in the Solar System.', 'It is the only planet known to have life on it.', 'The Earth formed about 4.6 billion years ago.', '[29][30]\\n\\nIt is one of four rocky planets on the inner side of the Solar System.', 'The other three are Mercury, Venus, and Mars.', 'The large mass of the Sun keeps the Earth in orbit through the force of gravity.', '[31] Earth also turns around in space, so that different parts face the Sun at different times.', 'Earth goes around the Sun once (one year) for every 365\\u200b1⁄ 4 times it turns around (one day).', 'Earth is the only planet in the Solar System that has a large amount of liquid water on its surface.', '[32][33][34] About 71% of the surface of Earth is covered by liquid or frozen water.', '[35] Because of this, people sometimes call it the blue planet.', '[36]\\n\\nBecause of its water, Earth is home to millions of species of plants and animals which need water to survive.', '[37][38] The things that live on Earth have changed its surface greatly.', 'For example, early cyanobacteria changed the air and gave it oxygen.', 'The living part of Earth\\'s surface is called the \"biosphere\".', '[39]\\n\\nOrbit and turning [ change | change source ]\\n\\nEarth turns at an angle (an \"axial tilt\") in relation to its path around the Sun\\n\\nEarth is one of the eight planets in the Solar System.', 'There are also thousands of small bodies which move around the Sun.', 'The Solar System is moving through the Orion Arm of the Milky Way galaxy, and will be for about the next 10,000 years.', '[40][41]\\n\\nEarth is about 150,000,000 kilometres or 93,000,000 miles away from the Sun (this distance is called an \"astronomical unit\" or au.', 'It moves on its orbit at an average speed of about 30 km/s (19 mi/s).', '[42] Earth turns all the way around about 365\\u200b1⁄ 4 times in the time it takes for Earth to go all the way around the Sun.', '[4] To make up this extra bit of a day every year, an additional day is used every four years.', 'This is named a \"leap year\".', 'The Moon goes around Earth at an average distance of 400,000 kilometres or 250,000 miles.', 'It is locked to Earth, so that it always has the same half facing Earth; the other half is called the \"dark side of the moon\".', 'It takes about 27\\u200b1⁄ 3 days for the Moon to go all the way around Earth, but because Earth is moving around the Sun at the same time, it takes about 29\\u200b1⁄ 2 days for the Moon to go from dark to bright to dark again.', 'This is where the word \"month\" came from, even though most months now have 30 or 31 days.', '[43]\\n\\nHistory of Earth [ change | change source ]\\n\\nEarth and the other planets formed about 4.6 billion years ago.', '[44] Their origin was different from that of the Sun.', 'The Sun was formed almost entirely of hydrogen, while the planets were formed mostly from higher elements.', 'The smaller \"rocky\" planets are made almost entirely of higher elements.', 'The Sun must have moved through areas where supernovae had previously exploded.', '[45] All the planets have higher elements which are only made in supernovae.', '[46][47][48] Only the so-called \"gas giants\" have much hydrogen and helium.', 'The Moon may have been formed after a collision between the early Earth and a smaller planet (sometimes called Theia).', 'Scientists believe that parts of both planets broke off – becoming (by gravity) the Moon.', \"[49]\\n\\nEarth's water came from different places.\", 'Condensing water vapour, and comets and asteroids hitting Earth, made the oceans.', 'Within a billion years (that is at about 3.6 billion years ago) the first life evolved, in the Archaean era.', \"[50][51] Some bacteria developed photosynthesis, which let them make food from the Sun's light and water.\", 'This released a lot of oxygen, which was first taken up by iron in solution.', \"After a long time, enough oxygen got into the atmosphere or air, making Earth's surface suitable for aerobic life (see Great Oxygenation Event).\", 'This oxygen also formed the ozone layer which protects life from ultraviolet radiation from the Sun.', 'Complex life on the surface of the land did not exist before the ozone layer.', \"[52]\\n\\nEarth's land and climate has been very different in the past.\", 'About 3 to 3.5 billion years ago almost all land was in one place.', 'This is called a supercontinent.', 'The earliest known supercontinent was called Vaalbara.', 'Much later, there many times the Earth was covered in ice sheets.', '(For example, the Cryogenian).', '[53] This is called the Snowball Earth theory.', '[53]\\n\\nGeology of Earth [ change | change source ]\\n\\nEarth is rocky.', 'It is the largest of the rocky planets moving around the Sun by mass and by size.', 'It is much smaller than the gas giants such as Jupiter.', 'Overall, Earth is made of iron (32.1%), oxygen (30.1%), silicon (15.1%), magnesium (13.9%), sulfur (2.9%), nickel (1.8%), calcium (1.5%), and aluminium (1.4%).', 'The 1.2% left over is made of many different kinds of other chemicals.', 'Some rare metals (not just gold and platinum) are very valuable.', 'Rare earth metals are often used in electronic phones and computers.', '[54]\\n\\nThe structure of Earth changes from the inside to the outside.', \"The center of Earth (Earth's core) is mostly iron (88.8%), nickel (5.8%), sulfur (4.5%), and less than 1% other elements.\", \"[55] The Earth's crust is largely oxygen (47%).\", 'Oxygen is normally a gas but it can join with other chemicals to make compounds like water and rocks.', '99.22% of rocks have oxygen in them.', 'The most common rocks with oxygen are silica (made with silicon), alumina (made with aluminium), rust (made with iron), lime (made with calcium), magnesia (made with magnesium), potash (made with potassium), and sodium oxide.', '[56]\\n\\nThe Earth is the densest of all the planets.', '[57] It has a lot of heavy metals in it.', \"[58]\\n\\nEarth's shape is a spheroid: not quite a sphere because it is slightly squashed on the top and bottom.\", 'The shape is called an oblate spheroid.', 'As Earth spins around itself, centrifugal force forces the equator out a little and pulls the poles in a little.', \"The equator, around the middle of Earth's surface, is about 40,075 kilometers or 24,900 miles long.\", '[59] The reason the Earth is roughly a sphere (and so are all planets and stars) is gravity.', '[60] Meteorites, on the other hand may be any shape because, in their case, the force of gravity is too weak to change their shape.', 'The highest mountain above sea level—the well-known Mount Everest (which is 8,848 metres or 29,029 feet above sea level)—is not actually the one that is the farthest away from the center of the Earth.', 'Instead, the sleeping volcano Mount Chimborazo in Ecuador is; it is only 6,263 metres or 20,548 feet above sea level but it is almost at the equator.', 'Because of this, Mount Chimborazo is 6,384 kilometres or 3,967 miles from the center of the Earth, while Mount Everest is closer to it (2 kilometres or 1.2 miles).', '[61][62][63] Similarly, the lowest point below sea level that we are conscious of is the Challenger Deep in the Mariana Trench in the Pacific Ocean.', 'It is about 10,971 metres or 35,994 feet below sea level,[64] but, again, there are probably places at the bottom of the Arctic Ocean that are nearer to the center of the Earth.', 'A picture of the inside of the Earth, showing the different levels.', 'In fact, the air and the outside levels are much thinner than shown here\\n\\nThe deepest hole ever dug is only about 12.3 kilometers or 7.6 miles.', 'We know something about the inside of the Earth, because we learn things from earthquakes and volcanic eruptions.', 'We can detect how quickly shock waves move through the Earth.', 'The inside of Earth is very different from the outside.', \"Almost all of Earth's liquid water is in the seas or close to the surface.\", 'The surface also has a lot of oxygen, which comes from plants.', 'Small and simple kinds of life can live far under the surface, but animals and plants only live on the surface or in the seas.', \"The rocks on the surface of Earth (Earth's crust) are well known.\", 'They are thicker where there is land, between 30 to 50 km or 19 to 31 mi thick.', 'Under the seas they are sometimes only 6 km or 3.7 mi thick.', \"[65]\\n\\nThere are three groups of rocks that make up most of the Earth's crust.\", 'Some rock is made when the hot liquid rock comes from inside the earth (igneous rocks); another type of rock is made when sediment is laid down, usually under the sea (sedimentary rocks); and a third kind of rock is made when the other two are changed by very high temperature or pressure (metamorphic rocks).', \"Below the crust is hot and almost-liquid rock which is always moving around (the Earth's mantle).\", 'Then, there is a thin liquid layer of heated rock (the outer core).', 'This is very hot: 7,000 °C or 13,000 °F or 7,300 K.[66] The middle of the inside of the Earth would be liquid as well but all the pressure of the rock above it makes it a solid.', 'This solid middle part (the inner core) is almost all iron.', 'It is what makes the Earth magnetic.', \"Pieces of the crust form plates [ change | change source ]\\n\\nA picture showing the Earth's largest and most important plates.\", \"See the main article: Plate tectonics\\n\\nThe Earth's crust is solid but made of parts which move very slowly.\", '[67] The thin skin of hard rock on the outside of the Earth rests on hot liquid material below it in the deeper mantle.', '[68] This liquid material moves because it gets heat from the hot center of the Earth.', 'The slow movement of the plates is a factor in earthquakes, volcanoes and large groups of mountains on the Earth.', 'There are three ways plates can come together.', 'Two plates can move towards each other (\"convergent\" plate edges).', 'This can form islands, volcanoes, and high mountain ranges (such as the Andes and Himalayas).', '[69] Two plates can move away from each other (\"divergent\" plate edges).', 'This gives the warm liquid rock inside the earth a place to come out.', \"This makes special mountain ranges below the sea or large low lands like Africa's Great Rift Valley.\", '[70][71] Plates are able to move beside each other as well (\"transform\" plate edges, such as the San Andreas Fault).', 'This makes their edges crush against each other and makes many shocks as they move.', '[72]\\n\\nThe outside of the Earth is not even.', 'There are high places called mountains, and high flat places called plateaus or plateaux.', 'There are low places called valleys and canyons.', 'For the most part, moving air and water from the sky and seas eats away at rocks in high places and breaks them into small pieces.', 'The air and water then move these pieces to lower places.', \"The fundamental cause of the differences in the Earth's surface is plate tectonics.\", 'The shape of the entire planet itself is not a exactly a ball.', 'Because of its spin, Earth has a slight bulge at the Equator.', 'All places on Earth are made of, or are on top of, rocks.', 'The outside of the Earth is usually not uncovered rock.', 'Over 70% of the Earth is covered by seas full of salty water.', \"[73] This salty water makes up about 97\\u200b1⁄ 2 % of all Earth's water.\", 'The drinkable fresh water is mostly in the form of ice.', 'There is only a small amount (less than 3%) of fresh water in rivers and under the ground for people to drink.', '[74] Gravity stops the water from going away into outer space.', 'Also, much of the land on Earth is covered with plants, or with what is left from earlier living things.', 'Places with very little rain are dry wastes called deserts.', 'Deserts usually have few living things, but life is able to grow very quickly when these wastes have rainfall.', 'Places with large amounts of rain may be rain forests.', 'Lately, people have changed the environment of the Earth a great deal.', 'As population has increased, so has farming.', 'Farming is done on what were once natural forests and grassland.', '[75][76]\\n\\nSee the main article: Atmosphere\\n\\nAll around the Earth is the of air (the atmosphere).', 'The mass of the Earth holds the gasses in the air down and does not let them go into outer space.', 'The air is mostly made of nitrogen (about 78%) and oxygen (about 21%) and there are a few other gasses as well.', '[77] Living things need both the air and water.', 'The air, which animals and plants use to live, is only the first level of the air around the Earth (the troposphere).', 'The day to day changes in this level of air are called weather; the larger differences between distant places, and from year to year, are called the climate.', 'Rain and storms come about because this part of the air gets colder as it goes up.', 'Cold air becomes thicker and falls, and warm air becomes thinner and goes up.', '[78] The turning Earth also moves the air as well and air moves north and south because the middle of the Earth generally gets more power from the Sun and is warmer than the north and south points.', 'Air over warm water evaporates but, because cold air is not able to take in as much water, it starts to make clouds and rain as it gets colder.', 'The way water moves around in a circle like this is called the water cycle.', '[78]\\n\\nAbove this first level, there are four other levels.', 'The air gets colder as it goes up in the first level; in the second level (the stratosphere), the air gets warmer as it goes up.', 'This level has a special kind of oxygen called ozone.', 'The ozone in this air keeps living things safe from damaging rays from the Sun.', 'The power from these rays is what makes this level warmer and warmer.', 'The middle level (the mesosphere) gets colder and colder with height; the fourth level (the thermosphere) gets warmer and warmer; and the last level (the exosphere) is almost outer space and has very little air at all.', 'It reaches about half the way to the Moon.', 'The three outer levels have a lot of electric power moving through them; this is called the ionosphere and is important for radio and other electric waves in the air.', 'Even though air seems very light, the weight of all of the air above the outside of the Earth (air pressure) is important.', 'Generally, from sea level to the top of the outer level of the air, a space of air one cm2 across has a mass of about 1.03 kg and a space of air one sq in across has a weight of about 14.7 lb.', 'Because of friction in the air, small meteorites generally burn up long before they get to the Earth.', 'The air also keeps the Earth warm, specially the half turned away from the Sun.', 'Some gasses – especially methane and carbon dioxide – work like a blanket to keep things warm.', '[79] In the past, the Earth has been much warmer and much colder than it is now.', 'Since people have adapted to the heat we have now, we do not want the Earth to be too much warmer or colder.', 'Most of the ways people create electric power use burning kinds of carbon – especially coal, oil, and natural gas.', 'Burning these fuels creates more carbon dioxide which causes more warming.', \"A discussion is going on now about what people should do about the Earth's latest warming, which has gone on for about 150 years.\", 'So far, this warming has been acceptable: plants have grown better.', 'The weather has generally been better than when it was colder.', 'See the main article: Human\\n\\nAbout eight billion people live on Earth.', 'They live in about 200 different lands called countries.', 'Some, for example, Russia, are large with many large cities.', 'Others, for example, Vatican City, are small.', 'The seven countries with the most people are India, China, the United States, Indonesia, Pakistan, Brazil and Nigeria.', 'About 90% of people live in the northern hemisphere of the world, which has most of the land.', 'Human beings originally came from Africa.', 'Now, 70% of all people do not live in Africa but in Europe and Asia.', '[80]\\n\\nThe distribution of human world population in 2018\\n\\nPeople change the Earth in many ways.', 'They have been able to grow plants for food and clothes for about ten thousand years.', 'When there was enough food, they were able to build towns and cities.', 'Near these places, men and women were able to change rivers, bring water to farms, and stop floods (rising water) from coming over their land.', 'People found useful animals and bred them so they were easier to keep.', '[81]\\n\\nThere is wide agreement that the long-term future of Earth is tied to the future of the Sun.', '[82] As time passes, the Sun will get hotter, and that will eventually make the Earth a planet without life.', 'Related pages [ change | change source ]']\n"
          ]
        }
      ],
      "source": [
        "#tokenization\n",
        "text=corpus\n",
        "sent_tokens=nltk.sent_tokenize(text)\n",
        "print(sent_tokens)"
      ]
    },
    {
      "cell_type": "code",
      "execution_count": null,
      "metadata": {
        "id": "MBnglWp8yTyi"
      },
      "outputs": [],
      "source": [
        "lemmer = nltk.stem.WordNetLemmatizer()\n",
        "#WordNet is a semantically-oriented dictionary of English included in NLTK.\n",
        "def LemTokens(tokens):\n",
        "    return [lemmer.lemmatize(token) for token in tokens]\n",
        "remove_punct_dict = dict((ord(punct), None) for punct in string.punctuation)\n",
        "\n",
        "def LemNormalize(text):\n",
        "    return LemTokens(nltk.word_tokenize(text.lower().translate(remove_punct_dict)))"
      ]
    },
    {
      "cell_type": "code",
      "execution_count": null,
      "metadata": {
        "colab": {
          "base_uri": "https://localhost:8080/"
        },
        "id": "IWmyBZFKvhqG",
        "outputId": "b362896d-e824-462f-f9bf-8dc891cb3d85"
      },
      "outputs": [
        {
          "output_type": "stream",
          "name": "stdout",
          "text": [
            "!\"#$%&'()*+,-./:;<=>?@[\\]^_`{|}~\n",
            "{33: None, 34: None, 35: None, 36: None, 37: None, 38: None, 39: None, 40: None, 41: None, 42: None, 43: None, 44: None, 45: None, 46: None, 47: None, 58: None, 59: None, 60: None, 61: None, 62: None, 63: None, 64: None, 91: None, 92: None, 93: None, 94: None, 95: None, 96: None, 123: None, 124: None, 125: None, 126: None}\n"
          ]
        }
      ],
      "source": [
        "#creating a dictionary to remove the punctuation\n",
        "print(string.punctuation)\n",
        "print(remove_punct_dict)"
      ]
    },
    {
      "cell_type": "code",
      "execution_count": null,
      "metadata": {
        "colab": {
          "base_uri": "https://localhost:8080/"
        },
        "execution": {
          "iopub.execute_input": "2024-02-14T13:23:42.175903Z",
          "iopub.status.busy": "2024-02-14T13:23:42.175357Z",
          "iopub.status.idle": "2024-02-14T13:23:42.197975Z",
          "shell.execute_reply": "2024-02-14T13:23:42.196739Z",
          "shell.execute_reply.started": "2024-02-14T13:23:42.175843Z"
        },
        "id": "lx9bKjbvw1DU",
        "outputId": "95166237-d351-45be-9e29-2877e888e3ea"
      },
      "outputs": [
        {
          "output_type": "stream",
          "name": "stdout",
          "text": [
            "['earth', 'is', 'the', 'third', 'planet', 'from', 'the', 'sun', 'in', 'the', 'solar', 'system', 'it', 'is', 'the', 'only', 'planet', 'known', 'to', 'have', 'life', 'on', 'it', 'the', 'earth', 'formed', 'about', '46', 'billion', 'years', 'ago2930', 'it', 'is', 'one', 'of', 'four', 'rocky', 'planets', 'on', 'the', 'inner', 'side', 'of', 'the', 'solar', 'system', 'the', 'other', 'three', 'are', 'mercury', 'venus', 'and', 'mars', 'the', 'large', 'mass', 'of', 'the', 'sun', 'keeps', 'the', 'earth', 'in', 'orbit', 'through', 'the', 'force', 'of', 'gravity31', 'earth', 'also', 'turns', 'around', 'in', 'space', 'so', 'that', 'different', 'parts', 'face', 'the', 'sun', 'at', 'different', 'times', 'earth', 'goes', 'around', 'the', 'sun', 'once', 'one', 'year', 'for', 'every', '365\\u200b1⁄', '4', 'times', 'it', 'turns', 'around', 'one', 'day', 'earth', 'is', 'the', 'only', 'planet', 'in', 'the', 'solar', 'system', 'that', 'has', 'a', 'large', 'amount', 'of', 'liquid', 'water', 'on', 'its', 'surface323334', 'about', '71', 'of', 'the', 'surface', 'of', 'earth', 'is', 'covered', 'by', 'liquid', 'or', 'frozen', 'water35', 'because', 'of', 'this', 'people', 'sometimes', 'call', 'it', 'the', 'blue', 'planet36', 'because', 'of', 'its', 'water', 'earth', 'is', 'home', 'to', 'millions', 'of', 'species', 'of', 'plants', 'and', 'animals', 'which', 'need', 'water', 'to', 'survive3738', 'the', 'things', 'that', 'live', 'on', 'earth', 'have', 'changed', 'its', 'surface', 'greatly', 'for', 'example', 'early', 'cyanobacteria', 'changed', 'the', 'air', 'and', 'gave', 'it', 'oxygen', 'the', 'living', 'part', 'of', 'earths', 'surface', 'is', 'called', 'the', 'biosphere39', 'orbit', 'and', 'turning', 'change', 'change', 'source', 'earth', 'turns', 'at', 'an', 'angle', 'an', 'axial', 'tilt', 'in', 'relation', 'to', 'its', 'path', 'around', 'the', 'sun', 'earth', 'is', 'one', 'of', 'the', 'eight', 'planets', 'in', 'the', 'solar', 'system', 'there', 'are', 'also', 'thousands', 'of', 'small', 'bodies', 'which', 'move', 'around', 'the', 'sun', 'the', 'solar', 'system', 'is', 'moving', 'through', 'the', 'orion', 'arm', 'of', 'the', 'milky', 'way', 'galaxy', 'and', 'will', 'be', 'for', 'about', 'the', 'next', '10000', 'years4041', 'earth', 'is', 'about', '150000000', 'kilometres', 'or', '93000000', 'miles', 'away', 'from', 'the', 'sun', 'this', 'distance', 'is', 'called', 'an', 'astronomical', 'unit', 'or', 'au', 'it', 'moves', 'on', 'its', 'orbit', 'at', 'an', 'average', 'speed', 'of', 'about', '30', 'kms', '19', 'mis42', 'earth', 'turns', 'all', 'the', 'way', 'around', 'about', '365\\u200b1⁄', '4', 'times', 'in', 'the', 'time', 'it', 'takes', 'for', 'earth', 'to', 'go', 'all', 'the', 'way', 'around', 'the', 'sun4', 'to', 'make', 'up', 'this', 'extra', 'bit', 'of', 'a', 'day', 'every', 'year', 'an', 'additional', 'day', 'is', 'used', 'every', 'four', 'years', 'this', 'is', 'named', 'a', 'leap', 'year', 'the', 'moon', 'goes', 'around', 'earth', 'at', 'an', 'average', 'distance', 'of', '400000', 'kilometres', 'or', '250000', 'miles', 'it', 'is', 'locked', 'to', 'earth', 'so', 'that', 'it', 'always', 'has', 'the', 'same', 'half', 'facing', 'earth', 'the', 'other', 'half', 'is', 'called', 'the', 'dark', 'side', 'of', 'the', 'moon', 'it', 'takes', 'about', '27\\u200b1⁄', '3', 'days', 'for', 'the', 'moon', 'to', 'go', 'all', 'the', 'way', 'around', 'earth', 'but', 'because', 'earth', 'is', 'moving', 'around', 'the', 'sun', 'at', 'the', 'same', 'time', 'it', 'takes', 'about', '29\\u200b1⁄', '2', 'days', 'for', 'the', 'moon', 'to', 'go', 'from', 'dark', 'to', 'bright', 'to', 'dark', 'again', 'this', 'is', 'where', 'the', 'word', 'month', 'came', 'from', 'even', 'though', 'most', 'months', 'now', 'have', '30', 'or', '31', 'days43', 'history', 'of', 'earth', 'change', 'change', 'source', 'earth', 'and', 'the', 'other', 'planets', 'formed', 'about', '46', 'billion', 'years', 'ago44', 'their', 'origin', 'was', 'different', 'from', 'that', 'of', 'the', 'sun', 'the', 'sun', 'was', 'formed', 'almost', 'entirely', 'of', 'hydrogen', 'while', 'the', 'planets', 'were', 'formed', 'mostly', 'from', 'higher', 'elements', 'the', 'smaller', 'rocky', 'planets', 'are', 'made', 'almost', 'entirely', 'of', 'higher', 'elements', 'the', 'sun', 'must', 'have', 'moved', 'through', 'areas', 'where', 'supernovae', 'had', 'previously', 'exploded45', 'all', 'the', 'planets', 'have', 'higher', 'elements', 'which', 'are', 'only', 'made', 'in', 'supernovae464748', 'only', 'the', 'socalled', 'gas', 'giants', 'have', 'much', 'hydrogen', 'and', 'helium', 'the', 'moon', 'may', 'have', 'been', 'formed', 'after', 'a', 'collision', 'between', 'the', 'early', 'earth', 'and', 'a', 'smaller', 'planet', 'sometimes', 'called', 'theia', 'scientists', 'believe', 'that', 'parts', 'of', 'both', 'planets', 'broke', 'off', '–', 'becoming', 'by', 'gravity', 'the', 'moon49', 'earths', 'water', 'came', 'from', 'different', 'places', 'condensing', 'water', 'vapour', 'and', 'comets', 'and', 'asteroids', 'hitting', 'earth', 'made', 'the', 'oceans', 'within', 'a', 'billion', 'years', 'that', 'is', 'at', 'about', '36', 'billion', 'years', 'ago', 'the', 'first', 'life', 'evolved', 'in', 'the', 'archaean', 'era5051', 'some', 'bacteria', 'developed', 'photosynthesis', 'which', 'let', 'them', 'make', 'food', 'from', 'the', 'suns', 'light', 'and', 'water', 'this', 'released', 'a', 'lot', 'of', 'oxygen', 'which', 'was', 'first', 'taken', 'up', 'by', 'iron', 'in', 'solution', 'after', 'a', 'long', 'time', 'enough', 'oxygen', 'got', 'into', 'the', 'atmosphere', 'or', 'air', 'making', 'earths', 'surface', 'suitable', 'for', 'aerobic', 'life', 'see', 'great', 'oxygenation', 'event', 'this', 'oxygen', 'also', 'formed', 'the', 'ozone', 'layer', 'which', 'protects', 'life', 'from', 'ultraviolet', 'radiation', 'from', 'the', 'sun', 'complex', 'life', 'on', 'the', 'surface', 'of', 'the', 'land', 'did', 'not', 'exist', 'before', 'the', 'ozone', 'layer52', 'earths', 'land', 'and', 'climate', 'has', 'been', 'very', 'different', 'in', 'the', 'past', 'about', '3', 'to', '35', 'billion', 'years', 'ago', 'almost', 'all', 'land', 'was', 'in', 'one', 'place', 'this', 'is', 'called', 'a', 'supercontinent', 'the', 'earliest', 'known', 'supercontinent', 'was', 'called', 'vaalbara', 'much', 'later', 'there', 'many', 'times', 'the', 'earth', 'was', 'covered', 'in', 'ice', 'sheets', 'for', 'example', 'the', 'cryogenian53', 'this', 'is', 'called', 'the', 'snowball', 'earth', 'theory53', 'geology', 'of', 'earth', 'change', 'change', 'source', 'earth', 'is', 'rocky', 'it', 'is', 'the', 'largest', 'of', 'the', 'rocky', 'planets', 'moving', 'around', 'the', 'sun', 'by', 'mass', 'and', 'by', 'size', 'it', 'is', 'much', 'smaller', 'than', 'the', 'gas', 'giants', 'such', 'as', 'jupiter', 'overall', 'earth', 'is', 'made', 'of', 'iron', '321', 'oxygen', '301', 'silicon', '151', 'magnesium', '139', 'sulfur', '29', 'nickel', '18', 'calcium', '15', 'and', 'aluminium', '14', 'the', '12', 'left', 'over', 'is', 'made', 'of', 'many', 'different', 'kinds', 'of', 'other', 'chemicals', 'some', 'rare', 'metals', 'not', 'just', 'gold', 'and', 'platinum', 'are', 'very', 'valuable', 'rare', 'earth', 'metals', 'are', 'often', 'used', 'in', 'electronic', 'phones', 'and', 'computers54', 'the', 'structure', 'of', 'earth', 'changes', 'from', 'the', 'inside', 'to', 'the', 'outside', 'the', 'center', 'of', 'earth', 'earths', 'core', 'is', 'mostly', 'iron', '888', 'nickel', '58', 'sulfur', '45', 'and', 'less', 'than', '1', 'other', 'elements55', 'the', 'earths', 'crust', 'is', 'largely', 'oxygen', '47', 'oxygen', 'is', 'normally', 'a', 'gas', 'but', 'it', 'can', 'join', 'with', 'other', 'chemicals', 'to', 'make', 'compounds', 'like', 'water', 'and', 'rocks', '9922', 'of', 'rocks', 'have', 'oxygen', 'in', 'them', 'the', 'most', 'common', 'rocks', 'with', 'oxygen', 'are', 'silica', 'made', 'with', 'silicon', 'alumina', 'made', 'with', 'aluminium', 'rust', 'made', 'with', 'iron', 'lime', 'made', 'with', 'calcium', 'magnesia', 'made', 'with', 'magnesium', 'potash', 'made', 'with', 'potassium', 'and', 'sodium', 'oxide56', 'the', 'earth', 'is', 'the', 'densest', 'of', 'all', 'the', 'planets57', 'it', 'has', 'a', 'lot', 'of', 'heavy', 'metals', 'in', 'it58', 'earths', 'shape', 'is', 'a', 'spheroid', 'not', 'quite', 'a', 'sphere', 'because', 'it', 'is', 'slightly', 'squashed', 'on', 'the', 'top', 'and', 'bottom', 'the', 'shape', 'is', 'called', 'an', 'oblate', 'spheroid', 'as', 'earth', 'spins', 'around', 'itself', 'centrifugal', 'force', 'forces', 'the', 'equator', 'out', 'a', 'little', 'and', 'pulls', 'the', 'poles', 'in', 'a', 'little', 'the', 'equator', 'around', 'the', 'middle', 'of', 'earths', 'surface', 'is', 'about', '40075', 'kilometers', 'or', '24900', 'miles', 'long59', 'the', 'reason', 'the', 'earth', 'is', 'roughly', 'a', 'sphere', 'and', 'so', 'are', 'all', 'planets', 'and', 'stars', 'is', 'gravity60', 'meteorites', 'on', 'the', 'other', 'hand', 'may', 'be', 'any', 'shape', 'because', 'in', 'their', 'case', 'the', 'force', 'of', 'gravity', 'is', 'too', 'weak', 'to', 'change', 'their', 'shape', 'the', 'highest', 'mountain', 'above', 'sea', 'level—the', 'wellknown', 'mount', 'everest', 'which', 'is', '8848', 'metres', 'or', '29029', 'feet', 'above', 'sea', 'level—is', 'not', 'actually', 'the', 'one', 'that', 'is', 'the', 'farthest', 'away', 'from', 'the', 'center', 'of', 'the', 'earth', 'instead', 'the', 'sleeping', 'volcano', 'mount', 'chimborazo', 'in', 'ecuador', 'is', 'it', 'is', 'only', '6263', 'metres', 'or', '20548', 'feet', 'above', 'sea', 'level', 'but', 'it', 'is', 'almost', 'at', 'the', 'equator', 'because', 'of', 'this', 'mount', 'chimborazo', 'is', '6384', 'kilometres', 'or', '3967', 'miles', 'from', 'the', 'center', 'of', 'the', 'earth', 'while', 'mount', 'everest', 'is', 'closer', 'to', 'it', '2', 'kilometres', 'or', '12', 'miles616263', 'similarly', 'the', 'lowest', 'point', 'below', 'sea', 'level', 'that', 'we', 'are', 'conscious', 'of', 'is', 'the', 'challenger', 'deep', 'in', 'the', 'mariana', 'trench', 'in', 'the', 'pacific', 'ocean', 'it', 'is', 'about', '10971', 'metres', 'or', '35994', 'feet', 'below', 'sea', 'level64', 'but', 'again', 'there', 'are', 'probably', 'places', 'at', 'the', 'bottom', 'of', 'the', 'arctic', 'ocean', 'that', 'are', 'nearer', 'to', 'the', 'center', 'of', 'the', 'earth', 'a', 'picture', 'of', 'the', 'inside', 'of', 'the', 'earth', 'showing', 'the', 'different', 'levels', 'in', 'fact', 'the', 'air', 'and', 'the', 'outside', 'levels', 'are', 'much', 'thinner', 'than', 'shown', 'here', 'the', 'deepest', 'hole', 'ever', 'dug', 'is', 'only', 'about', '123', 'kilometers', 'or', '76', 'miles', 'we', 'know', 'something', 'about', 'the', 'inside', 'of', 'the', 'earth', 'because', 'we', 'learn', 'things', 'from', 'earthquakes', 'and', 'volcanic', 'eruptions', 'we', 'can', 'detect', 'how', 'quickly', 'shock', 'waves', 'move', 'through', 'the', 'earth', 'the', 'inside', 'of', 'earth', 'is', 'very', 'different', 'from', 'the', 'outside', 'almost', 'all', 'of', 'earths', 'liquid', 'water', 'is', 'in', 'the', 'seas', 'or', 'close', 'to', 'the', 'surface', 'the', 'surface', 'also', 'has', 'a', 'lot', 'of', 'oxygen', 'which', 'comes', 'from', 'plants', 'small', 'and', 'simple', 'kinds', 'of', 'life', 'can', 'live', 'far', 'under', 'the', 'surface', 'but', 'animals', 'and', 'plants', 'only', 'live', 'on', 'the', 'surface', 'or', 'in', 'the', 'seas', 'the', 'rocks', 'on', 'the', 'surface', 'of', 'earth', 'earths', 'crust', 'are', 'well', 'known', 'they', 'are', 'thicker', 'where', 'there', 'is', 'land', 'between', '30', 'to', '50', 'km', 'or', '19', 'to', '31', 'mi', 'thick', 'under', 'the', 'seas', 'they', 'are', 'sometimes', 'only', '6', 'km', 'or', '37', 'mi', 'thick65', 'there', 'are', 'three', 'groups', 'of', 'rocks', 'that', 'make', 'up', 'most', 'of', 'the', 'earths', 'crust', 'some', 'rock', 'is', 'made', 'when', 'the', 'hot', 'liquid', 'rock', 'comes', 'from', 'inside', 'the', 'earth', 'igneous', 'rocks', 'another', 'type', 'of', 'rock', 'is', 'made', 'when', 'sediment', 'is', 'laid', 'down', 'usually', 'under', 'the', 'sea', 'sedimentary', 'rocks', 'and', 'a', 'third', 'kind', 'of', 'rock', 'is', 'made', 'when', 'the', 'other', 'two', 'are', 'changed', 'by', 'very', 'high', 'temperature', 'or', 'pressure', 'metamorphic', 'rocks', 'below', 'the', 'crust', 'is', 'hot', 'and', 'almostliquid', 'rock', 'which', 'is', 'always', 'moving', 'around', 'the', 'earths', 'mantle', 'then', 'there', 'is', 'a', 'thin', 'liquid', 'layer', 'of', 'heated', 'rock', 'the', 'outer', 'core', 'this', 'is', 'very', 'hot', '7000', '°c', 'or', '13000', '°f', 'or', '7300', 'k66', 'the', 'middle', 'of', 'the', 'inside', 'of', 'the', 'earth', 'would', 'be', 'liquid', 'as', 'well', 'but', 'all', 'the', 'pressure', 'of', 'the', 'rock', 'above', 'it', 'makes', 'it', 'a', 'solid', 'this', 'solid', 'middle', 'part', 'the', 'inner', 'core', 'is', 'almost', 'all', 'iron', 'it', 'is', 'what', 'makes', 'the', 'earth', 'magnetic', 'pieces', 'of', 'the', 'crust', 'form', 'plates', 'change', 'change', 'source', 'a', 'picture', 'showing', 'the', 'earths', 'largest', 'and', 'most', 'important', 'plates', 'see', 'the', 'main', 'article', 'plate', 'tectonics', 'the', 'earths', 'crust', 'is', 'solid', 'but', 'made', 'of', 'parts', 'which', 'move', 'very', 'slowly67', 'the', 'thin', 'skin', 'of', 'hard', 'rock', 'on', 'the', 'outside', 'of', 'the', 'earth', 'rests', 'on', 'hot', 'liquid', 'material', 'below', 'it', 'in', 'the', 'deeper', 'mantle68', 'this', 'liquid', 'material', 'moves', 'because', 'it', 'gets', 'heat', 'from', 'the', 'hot', 'center', 'of', 'the', 'earth', 'the', 'slow', 'movement', 'of', 'the', 'plates', 'is', 'a', 'factor', 'in', 'earthquakes', 'volcanoes', 'and', 'large', 'groups', 'of', 'mountains', 'on', 'the', 'earth', 'there', 'are', 'three', 'ways', 'plates', 'can', 'come', 'together', 'two', 'plates', 'can', 'move', 'towards', 'each', 'other', 'convergent', 'plate', 'edges', 'this', 'can', 'form', 'islands', 'volcanoes', 'and', 'high', 'mountain', 'ranges', 'such', 'as', 'the', 'andes', 'and', 'himalayas69', 'two', 'plates', 'can', 'move', 'away', 'from', 'each', 'other', 'divergent', 'plate', 'edges', 'this', 'gives', 'the', 'warm', 'liquid', 'rock', 'inside', 'the', 'earth', 'a', 'place', 'to', 'come', 'out', 'this', 'makes', 'special', 'mountain', 'ranges', 'below', 'the', 'sea', 'or', 'large', 'low', 'lands', 'like', 'africas', 'great', 'rift', 'valley7071', 'plates', 'are', 'able', 'to', 'move', 'beside', 'each', 'other', 'as', 'well', 'transform', 'plate', 'edges', 'such', 'as', 'the', 'san', 'andreas', 'fault', 'this', 'makes', 'their', 'edges', 'crush', 'against', 'each', 'other', 'and', 'makes', 'many', 'shocks', 'as', 'they', 'move72', 'the', 'outside', 'of', 'the', 'earth', 'is', 'not', 'even', 'there', 'are', 'high', 'places', 'called', 'mountains', 'and', 'high', 'flat', 'places', 'called', 'plateaus', 'or', 'plateaux', 'there', 'are', 'low', 'places', 'called', 'valleys', 'and', 'canyons', 'for', 'the', 'most', 'part', 'moving', 'air', 'and', 'water', 'from', 'the', 'sky', 'and', 'seas', 'eats', 'away', 'at', 'rocks', 'in', 'high', 'places', 'and', 'breaks', 'them', 'into', 'small', 'pieces', 'the', 'air', 'and', 'water', 'then', 'move', 'these', 'pieces', 'to', 'lower', 'places', 'the', 'fundamental', 'cause', 'of', 'the', 'differences', 'in', 'the', 'earths', 'surface', 'is', 'plate', 'tectonics', 'the', 'shape', 'of', 'the', 'entire', 'planet', 'itself', 'is', 'not', 'a', 'exactly', 'a', 'ball', 'because', 'of', 'its', 'spin', 'earth', 'has', 'a', 'slight', 'bulge', 'at', 'the', 'equator', 'all', 'places', 'on', 'earth', 'are', 'made', 'of', 'or', 'are', 'on', 'top', 'of', 'rocks', 'the', 'outside', 'of', 'the', 'earth', 'is', 'usually', 'not', 'uncovered', 'rock', 'over', '70', 'of', 'the', 'earth', 'is', 'covered', 'by', 'seas', 'full', 'of', 'salty', 'water73', 'this', 'salty', 'water', 'makes', 'up', 'about', '97\\u200b1⁄', '2', 'of', 'all', 'earths', 'water', 'the', 'drinkable', 'fresh', 'water', 'is', 'mostly', 'in', 'the', 'form', 'of', 'ice', 'there', 'is', 'only', 'a', 'small', 'amount', 'less', 'than', '3', 'of', 'fresh', 'water', 'in', 'rivers', 'and', 'under', 'the', 'ground', 'for', 'people', 'to', 'drink74', 'gravity', 'stops', 'the', 'water', 'from', 'going', 'away', 'into', 'outer', 'space', 'also', 'much', 'of', 'the', 'land', 'on', 'earth', 'is', 'covered', 'with', 'plants', 'or', 'with', 'what', 'is', 'left', 'from', 'earlier', 'living', 'things', 'places', 'with', 'very', 'little', 'rain', 'are', 'dry', 'wastes', 'called', 'deserts', 'deserts', 'usually', 'have', 'few', 'living', 'things', 'but', 'life', 'is', 'able', 'to', 'grow', 'very', 'quickly', 'when', 'these', 'wastes', 'have', 'rainfall', 'places', 'with', 'large', 'amounts', 'of', 'rain', 'may', 'be', 'rain', 'forests', 'lately', 'people', 'have', 'changed', 'the', 'environment', 'of', 'the', 'earth', 'a', 'great', 'deal', 'as', 'population', 'has', 'increased', 'so', 'has', 'farming', 'farming', 'is', 'done', 'on', 'what', 'were', 'once', 'natural', 'forests', 'and', 'grassland7576', 'see', 'the', 'main', 'article', 'atmosphere', 'all', 'around', 'the', 'earth', 'is', 'the', 'of', 'air', 'the', 'atmosphere', 'the', 'mass', 'of', 'the', 'earth', 'holds', 'the', 'gasses', 'in', 'the', 'air', 'down', 'and', 'does', 'not', 'let', 'them', 'go', 'into', 'outer', 'space', 'the', 'air', 'is', 'mostly', 'made', 'of', 'nitrogen', 'about', '78', 'and', 'oxygen', 'about', '21', 'and', 'there', 'are', 'a', 'few', 'other', 'gasses', 'as', 'well77', 'living', 'things', 'need', 'both', 'the', 'air', 'and', 'water', 'the', 'air', 'which', 'animals', 'and', 'plants', 'use', 'to', 'live', 'is', 'only', 'the', 'first', 'level', 'of', 'the', 'air', 'around', 'the', 'earth', 'the', 'troposphere', 'the', 'day', 'to', 'day', 'changes', 'in', 'this', 'level', 'of', 'air', 'are', 'called', 'weather', 'the', 'larger', 'differences', 'between', 'distant', 'places', 'and', 'from', 'year', 'to', 'year', 'are', 'called', 'the', 'climate', 'rain', 'and', 'storms', 'come', 'about', 'because', 'this', 'part', 'of', 'the', 'air', 'gets', 'colder', 'as', 'it', 'goes', 'up', 'cold', 'air', 'becomes', 'thicker', 'and', 'falls', 'and', 'warm', 'air', 'becomes', 'thinner', 'and', 'goes', 'up78', 'the', 'turning', 'earth', 'also', 'moves', 'the', 'air', 'as', 'well', 'and', 'air', 'moves', 'north', 'and', 'south', 'because', 'the', 'middle', 'of', 'the', 'earth', 'generally', 'gets', 'more', 'power', 'from', 'the', 'sun', 'and', 'is', 'warmer', 'than', 'the', 'north', 'and', 'south', 'points', 'air', 'over', 'warm', 'water', 'evaporates', 'but', 'because', 'cold', 'air', 'is', 'not', 'able', 'to', 'take', 'in', 'as', 'much', 'water', 'it', 'starts', 'to', 'make', 'clouds', 'and', 'rain', 'as', 'it', 'gets', 'colder', 'the', 'way', 'water', 'moves', 'around', 'in', 'a', 'circle', 'like', 'this', 'is', 'called', 'the', 'water', 'cycle78', 'above', 'this', 'first', 'level', 'there', 'are', 'four', 'other', 'levels', 'the', 'air', 'gets', 'colder', 'as', 'it', 'goes', 'up', 'in', 'the', 'first', 'level', 'in', 'the', 'second', 'level', 'the', 'stratosphere', 'the', 'air', 'gets', 'warmer', 'as', 'it', 'goes', 'up', 'this', 'level', 'has', 'a', 'special', 'kind', 'of', 'oxygen', 'called', 'ozone', 'the', 'ozone', 'in', 'this', 'air', 'keeps', 'living', 'things', 'safe', 'from', 'damaging', 'rays', 'from', 'the', 'sun', 'the', 'power', 'from', 'these', 'rays', 'is', 'what', 'makes', 'this', 'level', 'warmer', 'and', 'warmer', 'the', 'middle', 'level', 'the', 'mesosphere', 'gets', 'colder', 'and', 'colder', 'with', 'height', 'the', 'fourth', 'level', 'the', 'thermosphere', 'gets', 'warmer', 'and', 'warmer', 'and', 'the', 'last', 'level', 'the', 'exosphere', 'is', 'almost', 'outer', 'space', 'and', 'has', 'very', 'little', 'air', 'at', 'all', 'it', 'reaches', 'about', 'half', 'the', 'way', 'to', 'the', 'moon', 'the', 'three', 'outer', 'levels', 'have', 'a', 'lot', 'of', 'electric', 'power', 'moving', 'through', 'them', 'this', 'is', 'called', 'the', 'ionosphere', 'and', 'is', 'important', 'for', 'radio', 'and', 'other', 'electric', 'waves', 'in', 'the', 'air', 'even', 'though', 'air', 'seems', 'very', 'light', 'the', 'weight', 'of', 'all', 'of', 'the', 'air', 'above', 'the', 'outside', 'of', 'the', 'earth', 'air', 'pressure', 'is', 'important', 'generally', 'from', 'sea', 'level', 'to', 'the', 'top', 'of', 'the', 'outer', 'level', 'of', 'the', 'air', 'a', 'space', 'of', 'air', 'one', 'cm2', 'across', 'has', 'a', 'mass', 'of', 'about', '103', 'kg', 'and', 'a', 'space', 'of', 'air', 'one', 'sq', 'in', 'across', 'has', 'a', 'weight', 'of', 'about', '147', 'lb', 'because', 'of', 'friction', 'in', 'the', 'air', 'small', 'meteorites', 'generally', 'burn', 'up', 'long', 'before', 'they', 'get', 'to', 'the', 'earth', 'the', 'air', 'also', 'keeps', 'the', 'earth', 'warm', 'specially', 'the', 'half', 'turned', 'away', 'from', 'the', 'sun', 'some', 'gasses', '–', 'especially', 'methane', 'and', 'carbon', 'dioxide', '–', 'work', 'like', 'a', 'blanket', 'to', 'keep', 'things', 'warm79', 'in', 'the', 'past', 'the', 'earth', 'has', 'been', 'much', 'warmer', 'and', 'much', 'colder', 'than', 'it', 'is', 'now', 'since', 'people', 'have', 'adapted', 'to', 'the', 'heat', 'we', 'have', 'now', 'we', 'do', 'not', 'want', 'the', 'earth', 'to', 'be', 'too', 'much', 'warmer', 'or', 'colder', 'most', 'of', 'the', 'ways', 'people', 'create', 'electric', 'power', 'use', 'burning', 'kinds', 'of', 'carbon', '–', 'especially', 'coal', 'oil', 'and', 'natural', 'gas', 'burning', 'these', 'fuels', 'creates', 'more', 'carbon', 'dioxide', 'which', 'causes', 'more', 'warming', 'a', 'discussion', 'is', 'going', 'on', 'now', 'about', 'what', 'people', 'should', 'do', 'about', 'the', 'earths', 'latest', 'warming', 'which', 'has', 'gone', 'on', 'for', 'about', '150', 'years', 'so', 'far', 'this', 'warming', 'has', 'been', 'acceptable', 'plants', 'have', 'grown', 'better', 'the', 'weather', 'has', 'generally', 'been', 'better', 'than', 'when', 'it', 'was', 'colder', 'see', 'the', 'main', 'article', 'human', 'about', 'eight', 'billion', 'people', 'live', 'on', 'earth', 'they', 'live', 'in', 'about', '200', 'different', 'lands', 'called', 'countries', 'some', 'for', 'example', 'russia', 'are', 'large', 'with', 'many', 'large', 'cities', 'others', 'for', 'example', 'vatican', 'city', 'are', 'small', 'the', 'seven', 'countries', 'with', 'the', 'most', 'people', 'are', 'india', 'china', 'the', 'united', 'states', 'indonesia', 'pakistan', 'brazil', 'and', 'nigeria', 'about', '90', 'of', 'people', 'live', 'in', 'the', 'northern', 'hemisphere', 'of', 'the', 'world', 'which', 'has', 'most', 'of', 'the', 'land', 'human', 'beings', 'originally', 'came', 'from', 'africa', 'now', '70', 'of', 'all', 'people', 'do', 'not', 'live', 'in', 'africa', 'but', 'in', 'europe', 'and', 'asia80', 'the', 'distribution', 'of', 'human', 'world', 'population', 'in', '2018', 'people', 'change', 'the', 'earth', 'in', 'many', 'ways', 'they', 'have', 'been', 'able', 'to', 'grow', 'plants', 'for', 'food', 'and', 'clothes', 'for', 'about', 'ten', 'thousand', 'years', 'when', 'there', 'was', 'enough', 'food', 'they', 'were', 'able', 'to', 'build', 'towns', 'and', 'cities', 'near', 'these', 'places', 'men', 'and', 'women', 'were', 'able', 'to', 'change', 'rivers', 'bring', 'water', 'to', 'farms', 'and', 'stop', 'floods', 'rising', 'water', 'from', 'coming', 'over', 'their', 'land', 'people', 'found', 'useful', 'animals', 'and', 'bred', 'them', 'so', 'they', 'were', 'easier', 'to', 'keep81', 'there', 'is', 'wide', 'agreement', 'that', 'the', 'longterm', 'future', 'of', 'earth', 'is', 'tied', 'to', 'the', 'future', 'of', 'the', 'sun82', 'as', 'time', 'passes', 'the', 'sun', 'will', 'get', 'hotter', 'and', 'that', 'will', 'eventually', 'make', 'the', 'earth', 'a', 'planet', 'without', 'life', 'related', 'pages', 'change', 'change', 'source']\n"
          ]
        }
      ],
      "source": [
        "#create a function to return lower case words\n",
        "def LemNormalize(text):\n",
        "  return nltk.word_tokenize(text.lower().translate(remove_punct_dict))\n",
        "print(LemNormalize(text))\n"
      ]
    },
    {
      "cell_type": "code",
      "execution_count": null,
      "metadata": {
        "execution": {
          "iopub.execute_input": "2024-02-14T13:23:45.978588Z",
          "iopub.status.busy": "2024-02-14T13:23:45.978134Z",
          "iopub.status.idle": "2024-02-14T13:23:46.000044Z",
          "shell.execute_reply": "2024-02-14T13:23:45.998749Z",
          "shell.execute_reply.started": "2024-02-14T13:23:45.978556Z"
        },
        "colab": {
          "base_uri": "https://localhost:8080/"
        },
        "id": "1c9VwhIuyTyi",
        "outputId": "0324d2af-10cc-46df-9e83-3d09f72e9645"
      },
      "outputs": [
        {
          "output_type": "stream",
          "name": "stdout",
          "text": [
            "['EARTH', 'IS', 'THE', 'THIRD', 'PLANET', 'FROM', 'THE', 'SUN', 'IN', 'THE', 'SOLAR', 'SYSTEM', 'IT', 'IS', 'THE', 'ONLY', 'PLANET', 'KNOWN', 'TO', 'HAVE', 'LIFE', 'ON', 'IT', 'THE', 'EARTH', 'FORMED', 'ABOUT', '46', 'BILLION', 'YEARS', 'AGO2930', 'IT', 'IS', 'ONE', 'OF', 'FOUR', 'ROCKY', 'PLANETS', 'ON', 'THE', 'INNER', 'SIDE', 'OF', 'THE', 'SOLAR', 'SYSTEM', 'THE', 'OTHER', 'THREE', 'ARE', 'MERCURY', 'VENUS', 'AND', 'MARS', 'THE', 'LARGE', 'MASS', 'OF', 'THE', 'SUN', 'KEEPS', 'THE', 'EARTH', 'IN', 'ORBIT', 'THROUGH', 'THE', 'FORCE', 'OF', 'GRAVITY31', 'EARTH', 'ALSO', 'TURNS', 'AROUND', 'IN', 'SPACE', 'SO', 'THAT', 'DIFFERENT', 'PARTS', 'FACE', 'THE', 'SUN', 'AT', 'DIFFERENT', 'TIMES', 'EARTH', 'GOES', 'AROUND', 'THE', 'SUN', 'ONCE', 'ONE', 'YEAR', 'FOR', 'EVERY', '365\\u200b1⁄', '4', 'TIMES', 'IT', 'TURNS', 'AROUND', 'ONE', 'DAY', 'EARTH', 'IS', 'THE', 'ONLY', 'PLANET', 'IN', 'THE', 'SOLAR', 'SYSTEM', 'THAT', 'HAS', 'A', 'LARGE', 'AMOUNT', 'OF', 'LIQUID', 'WATER', 'ON', 'ITS', 'SURFACE323334', 'ABOUT', '71', 'OF', 'THE', 'SURFACE', 'OF', 'EARTH', 'IS', 'COVERED', 'BY', 'LIQUID', 'OR', 'FROZEN', 'WATER35', 'BECAUSE', 'OF', 'THIS', 'PEOPLE', 'SOMETIMES', 'CALL', 'IT', 'THE', 'BLUE', 'PLANET36', 'BECAUSE', 'OF', 'ITS', 'WATER', 'EARTH', 'IS', 'HOME', 'TO', 'MILLIONS', 'OF', 'SPECIES', 'OF', 'PLANTS', 'AND', 'ANIMALS', 'WHICH', 'NEED', 'WATER', 'TO', 'SURVIVE3738', 'THE', 'THINGS', 'THAT', 'LIVE', 'ON', 'EARTH', 'HAVE', 'CHANGED', 'ITS', 'SURFACE', 'GREATLY', 'FOR', 'EXAMPLE', 'EARLY', 'CYANOBACTERIA', 'CHANGED', 'THE', 'AIR', 'AND', 'GAVE', 'IT', 'OXYGEN', 'THE', 'LIVING', 'PART', 'OF', 'EARTHS', 'SURFACE', 'IS', 'CALLED', 'THE', 'BIOSPHERE39', 'ORBIT', 'AND', 'TURNING', 'CHANGE', 'CHANGE', 'SOURCE', 'EARTH', 'TURNS', 'AT', 'AN', 'ANGLE', 'AN', 'AXIAL', 'TILT', 'IN', 'RELATION', 'TO', 'ITS', 'PATH', 'AROUND', 'THE', 'SUN', 'EARTH', 'IS', 'ONE', 'OF', 'THE', 'EIGHT', 'PLANETS', 'IN', 'THE', 'SOLAR', 'SYSTEM', 'THERE', 'ARE', 'ALSO', 'THOUSANDS', 'OF', 'SMALL', 'BODIES', 'WHICH', 'MOVE', 'AROUND', 'THE', 'SUN', 'THE', 'SOLAR', 'SYSTEM', 'IS', 'MOVING', 'THROUGH', 'THE', 'ORION', 'ARM', 'OF', 'THE', 'MILKY', 'WAY', 'GALAXY', 'AND', 'WILL', 'BE', 'FOR', 'ABOUT', 'THE', 'NEXT', '10000', 'YEARS4041', 'EARTH', 'IS', 'ABOUT', '150000000', 'KILOMETRES', 'OR', '93000000', 'MILES', 'AWAY', 'FROM', 'THE', 'SUN', 'THIS', 'DISTANCE', 'IS', 'CALLED', 'AN', 'ASTRONOMICAL', 'UNIT', 'OR', 'AU', 'IT', 'MOVES', 'ON', 'ITS', 'ORBIT', 'AT', 'AN', 'AVERAGE', 'SPEED', 'OF', 'ABOUT', '30', 'KMS', '19', 'MIS42', 'EARTH', 'TURNS', 'ALL', 'THE', 'WAY', 'AROUND', 'ABOUT', '365\\u200b1⁄', '4', 'TIMES', 'IN', 'THE', 'TIME', 'IT', 'TAKES', 'FOR', 'EARTH', 'TO', 'GO', 'ALL', 'THE', 'WAY', 'AROUND', 'THE', 'SUN4', 'TO', 'MAKE', 'UP', 'THIS', 'EXTRA', 'BIT', 'OF', 'A', 'DAY', 'EVERY', 'YEAR', 'AN', 'ADDITIONAL', 'DAY', 'IS', 'USED', 'EVERY', 'FOUR', 'YEARS', 'THIS', 'IS', 'NAMED', 'A', 'LEAP', 'YEAR', 'THE', 'MOON', 'GOES', 'AROUND', 'EARTH', 'AT', 'AN', 'AVERAGE', 'DISTANCE', 'OF', '400000', 'KILOMETRES', 'OR', '250000', 'MILES', 'IT', 'IS', 'LOCKED', 'TO', 'EARTH', 'SO', 'THAT', 'IT', 'ALWAYS', 'HAS', 'THE', 'SAME', 'HALF', 'FACING', 'EARTH', 'THE', 'OTHER', 'HALF', 'IS', 'CALLED', 'THE', 'DARK', 'SIDE', 'OF', 'THE', 'MOON', 'IT', 'TAKES', 'ABOUT', '27\\u200b1⁄', '3', 'DAYS', 'FOR', 'THE', 'MOON', 'TO', 'GO', 'ALL', 'THE', 'WAY', 'AROUND', 'EARTH', 'BUT', 'BECAUSE', 'EARTH', 'IS', 'MOVING', 'AROUND', 'THE', 'SUN', 'AT', 'THE', 'SAME', 'TIME', 'IT', 'TAKES', 'ABOUT', '29\\u200b1⁄', '2', 'DAYS', 'FOR', 'THE', 'MOON', 'TO', 'GO', 'FROM', 'DARK', 'TO', 'BRIGHT', 'TO', 'DARK', 'AGAIN', 'THIS', 'IS', 'WHERE', 'THE', 'WORD', 'MONTH', 'CAME', 'FROM', 'EVEN', 'THOUGH', 'MOST', 'MONTHS', 'NOW', 'HAVE', '30', 'OR', '31', 'DAYS43', 'HISTORY', 'OF', 'EARTH', 'CHANGE', 'CHANGE', 'SOURCE', 'EARTH', 'AND', 'THE', 'OTHER', 'PLANETS', 'FORMED', 'ABOUT', '46', 'BILLION', 'YEARS', 'AGO44', 'THEIR', 'ORIGIN', 'WAS', 'DIFFERENT', 'FROM', 'THAT', 'OF', 'THE', 'SUN', 'THE', 'SUN', 'WAS', 'FORMED', 'ALMOST', 'ENTIRELY', 'OF', 'HYDROGEN', 'WHILE', 'THE', 'PLANETS', 'WERE', 'FORMED', 'MOSTLY', 'FROM', 'HIGHER', 'ELEMENTS', 'THE', 'SMALLER', 'ROCKY', 'PLANETS', 'ARE', 'MADE', 'ALMOST', 'ENTIRELY', 'OF', 'HIGHER', 'ELEMENTS', 'THE', 'SUN', 'MUST', 'HAVE', 'MOVED', 'THROUGH', 'AREAS', 'WHERE', 'SUPERNOVAE', 'HAD', 'PREVIOUSLY', 'EXPLODED45', 'ALL', 'THE', 'PLANETS', 'HAVE', 'HIGHER', 'ELEMENTS', 'WHICH', 'ARE', 'ONLY', 'MADE', 'IN', 'SUPERNOVAE464748', 'ONLY', 'THE', 'SOCALLED', 'GAS', 'GIANTS', 'HAVE', 'MUCH', 'HYDROGEN', 'AND', 'HELIUM', 'THE', 'MOON', 'MAY', 'HAVE', 'BEEN', 'FORMED', 'AFTER', 'A', 'COLLISION', 'BETWEEN', 'THE', 'EARLY', 'EARTH', 'AND', 'A', 'SMALLER', 'PLANET', 'SOMETIMES', 'CALLED', 'THEIA', 'SCIENTISTS', 'BELIEVE', 'THAT', 'PARTS', 'OF', 'BOTH', 'PLANETS', 'BROKE', 'OFF', '–', 'BECOMING', 'BY', 'GRAVITY', 'THE', 'MOON49', 'EARTHS', 'WATER', 'CAME', 'FROM', 'DIFFERENT', 'PLACES', 'CONDENSING', 'WATER', 'VAPOUR', 'AND', 'COMETS', 'AND', 'ASTEROIDS', 'HITTING', 'EARTH', 'MADE', 'THE', 'OCEANS', 'WITHIN', 'A', 'BILLION', 'YEARS', 'THAT', 'IS', 'AT', 'ABOUT', '36', 'BILLION', 'YEARS', 'AGO', 'THE', 'FIRST', 'LIFE', 'EVOLVED', 'IN', 'THE', 'ARCHAEAN', 'ERA5051', 'SOME', 'BACTERIA', 'DEVELOPED', 'PHOTOSYNTHESIS', 'WHICH', 'LET', 'THEM', 'MAKE', 'FOOD', 'FROM', 'THE', 'SUNS', 'LIGHT', 'AND', 'WATER', 'THIS', 'RELEASED', 'A', 'LOT', 'OF', 'OXYGEN', 'WHICH', 'WAS', 'FIRST', 'TAKEN', 'UP', 'BY', 'IRON', 'IN', 'SOLUTION', 'AFTER', 'A', 'LONG', 'TIME', 'ENOUGH', 'OXYGEN', 'GOT', 'INTO', 'THE', 'ATMOSPHERE', 'OR', 'AIR', 'MAKING', 'EARTHS', 'SURFACE', 'SUITABLE', 'FOR', 'AEROBIC', 'LIFE', 'SEE', 'GREAT', 'OXYGENATION', 'EVENT', 'THIS', 'OXYGEN', 'ALSO', 'FORMED', 'THE', 'OZONE', 'LAYER', 'WHICH', 'PROTECTS', 'LIFE', 'FROM', 'ULTRAVIOLET', 'RADIATION', 'FROM', 'THE', 'SUN', 'COMPLEX', 'LIFE', 'ON', 'THE', 'SURFACE', 'OF', 'THE', 'LAND', 'DID', 'NOT', 'EXIST', 'BEFORE', 'THE', 'OZONE', 'LAYER52', 'EARTHS', 'LAND', 'AND', 'CLIMATE', 'HAS', 'BEEN', 'VERY', 'DIFFERENT', 'IN', 'THE', 'PAST', 'ABOUT', '3', 'TO', '35', 'BILLION', 'YEARS', 'AGO', 'ALMOST', 'ALL', 'LAND', 'WAS', 'IN', 'ONE', 'PLACE', 'THIS', 'IS', 'CALLED', 'A', 'SUPERCONTINENT', 'THE', 'EARLIEST', 'KNOWN', 'SUPERCONTINENT', 'WAS', 'CALLED', 'VAALBARA', 'MUCH', 'LATER', 'THERE', 'MANY', 'TIMES', 'THE', 'EARTH', 'WAS', 'COVERED', 'IN', 'ICE', 'SHEETS', 'FOR', 'EXAMPLE', 'THE', 'CRYOGENIAN53', 'THIS', 'IS', 'CALLED', 'THE', 'SNOWBALL', 'EARTH', 'THEORY53', 'GEOLOGY', 'OF', 'EARTH', 'CHANGE', 'CHANGE', 'SOURCE', 'EARTH', 'IS', 'ROCKY', 'IT', 'IS', 'THE', 'LARGEST', 'OF', 'THE', 'ROCKY', 'PLANETS', 'MOVING', 'AROUND', 'THE', 'SUN', 'BY', 'MASS', 'AND', 'BY', 'SIZE', 'IT', 'IS', 'MUCH', 'SMALLER', 'THAN', 'THE', 'GAS', 'GIANTS', 'SUCH', 'AS', 'JUPITER', 'OVERALL', 'EARTH', 'IS', 'MADE', 'OF', 'IRON', '321', 'OXYGEN', '301', 'SILICON', '151', 'MAGNESIUM', '139', 'SULFUR', '29', 'NICKEL', '18', 'CALCIUM', '15', 'AND', 'ALUMINIUM', '14', 'THE', '12', 'LEFT', 'OVER', 'IS', 'MADE', 'OF', 'MANY', 'DIFFERENT', 'KINDS', 'OF', 'OTHER', 'CHEMICALS', 'SOME', 'RARE', 'METALS', 'NOT', 'JUST', 'GOLD', 'AND', 'PLATINUM', 'ARE', 'VERY', 'VALUABLE', 'RARE', 'EARTH', 'METALS', 'ARE', 'OFTEN', 'USED', 'IN', 'ELECTRONIC', 'PHONES', 'AND', 'COMPUTERS54', 'THE', 'STRUCTURE', 'OF', 'EARTH', 'CHANGES', 'FROM', 'THE', 'INSIDE', 'TO', 'THE', 'OUTSIDE', 'THE', 'CENTER', 'OF', 'EARTH', 'EARTHS', 'CORE', 'IS', 'MOSTLY', 'IRON', '888', 'NICKEL', '58', 'SULFUR', '45', 'AND', 'LESS', 'THAN', '1', 'OTHER', 'ELEMENTS55', 'THE', 'EARTHS', 'CRUST', 'IS', 'LARGELY', 'OXYGEN', '47', 'OXYGEN', 'IS', 'NORMALLY', 'A', 'GAS', 'BUT', 'IT', 'CAN', 'JOIN', 'WITH', 'OTHER', 'CHEMICALS', 'TO', 'MAKE', 'COMPOUNDS', 'LIKE', 'WATER', 'AND', 'ROCKS', '9922', 'OF', 'ROCKS', 'HAVE', 'OXYGEN', 'IN', 'THEM', 'THE', 'MOST', 'COMMON', 'ROCKS', 'WITH', 'OXYGEN', 'ARE', 'SILICA', 'MADE', 'WITH', 'SILICON', 'ALUMINA', 'MADE', 'WITH', 'ALUMINIUM', 'RUST', 'MADE', 'WITH', 'IRON', 'LIME', 'MADE', 'WITH', 'CALCIUM', 'MAGNESIA', 'MADE', 'WITH', 'MAGNESIUM', 'POTASH', 'MADE', 'WITH', 'POTASSIUM', 'AND', 'SODIUM', 'OXIDE56', 'THE', 'EARTH', 'IS', 'THE', 'DENSEST', 'OF', 'ALL', 'THE', 'PLANETS57', 'IT', 'HAS', 'A', 'LOT', 'OF', 'HEAVY', 'METALS', 'IN', 'IT58', 'EARTHS', 'SHAPE', 'IS', 'A', 'SPHEROID', 'NOT', 'QUITE', 'A', 'SPHERE', 'BECAUSE', 'IT', 'IS', 'SLIGHTLY', 'SQUASHED', 'ON', 'THE', 'TOP', 'AND', 'BOTTOM', 'THE', 'SHAPE', 'IS', 'CALLED', 'AN', 'OBLATE', 'SPHEROID', 'AS', 'EARTH', 'SPINS', 'AROUND', 'ITSELF', 'CENTRIFUGAL', 'FORCE', 'FORCES', 'THE', 'EQUATOR', 'OUT', 'A', 'LITTLE', 'AND', 'PULLS', 'THE', 'POLES', 'IN', 'A', 'LITTLE', 'THE', 'EQUATOR', 'AROUND', 'THE', 'MIDDLE', 'OF', 'EARTHS', 'SURFACE', 'IS', 'ABOUT', '40075', 'KILOMETERS', 'OR', '24900', 'MILES', 'LONG59', 'THE', 'REASON', 'THE', 'EARTH', 'IS', 'ROUGHLY', 'A', 'SPHERE', 'AND', 'SO', 'ARE', 'ALL', 'PLANETS', 'AND', 'STARS', 'IS', 'GRAVITY60', 'METEORITES', 'ON', 'THE', 'OTHER', 'HAND', 'MAY', 'BE', 'ANY', 'SHAPE', 'BECAUSE', 'IN', 'THEIR', 'CASE', 'THE', 'FORCE', 'OF', 'GRAVITY', 'IS', 'TOO', 'WEAK', 'TO', 'CHANGE', 'THEIR', 'SHAPE', 'THE', 'HIGHEST', 'MOUNTAIN', 'ABOVE', 'SEA', 'LEVEL—THE', 'WELLKNOWN', 'MOUNT', 'EVEREST', 'WHICH', 'IS', '8848', 'METRES', 'OR', '29029', 'FEET', 'ABOVE', 'SEA', 'LEVEL—IS', 'NOT', 'ACTUALLY', 'THE', 'ONE', 'THAT', 'IS', 'THE', 'FARTHEST', 'AWAY', 'FROM', 'THE', 'CENTER', 'OF', 'THE', 'EARTH', 'INSTEAD', 'THE', 'SLEEPING', 'VOLCANO', 'MOUNT', 'CHIMBORAZO', 'IN', 'ECUADOR', 'IS', 'IT', 'IS', 'ONLY', '6263', 'METRES', 'OR', '20548', 'FEET', 'ABOVE', 'SEA', 'LEVEL', 'BUT', 'IT', 'IS', 'ALMOST', 'AT', 'THE', 'EQUATOR', 'BECAUSE', 'OF', 'THIS', 'MOUNT', 'CHIMBORAZO', 'IS', '6384', 'KILOMETRES', 'OR', '3967', 'MILES', 'FROM', 'THE', 'CENTER', 'OF', 'THE', 'EARTH', 'WHILE', 'MOUNT', 'EVEREST', 'IS', 'CLOSER', 'TO', 'IT', '2', 'KILOMETRES', 'OR', '12', 'MILES616263', 'SIMILARLY', 'THE', 'LOWEST', 'POINT', 'BELOW', 'SEA', 'LEVEL', 'THAT', 'WE', 'ARE', 'CONSCIOUS', 'OF', 'IS', 'THE', 'CHALLENGER', 'DEEP', 'IN', 'THE', 'MARIANA', 'TRENCH', 'IN', 'THE', 'PACIFIC', 'OCEAN', 'IT', 'IS', 'ABOUT', '10971', 'METRES', 'OR', '35994', 'FEET', 'BELOW', 'SEA', 'LEVEL64', 'BUT', 'AGAIN', 'THERE', 'ARE', 'PROBABLY', 'PLACES', 'AT', 'THE', 'BOTTOM', 'OF', 'THE', 'ARCTIC', 'OCEAN', 'THAT', 'ARE', 'NEARER', 'TO', 'THE', 'CENTER', 'OF', 'THE', 'EARTH', 'A', 'PICTURE', 'OF', 'THE', 'INSIDE', 'OF', 'THE', 'EARTH', 'SHOWING', 'THE', 'DIFFERENT', 'LEVELS', 'IN', 'FACT', 'THE', 'AIR', 'AND', 'THE', 'OUTSIDE', 'LEVELS', 'ARE', 'MUCH', 'THINNER', 'THAN', 'SHOWN', 'HERE', 'THE', 'DEEPEST', 'HOLE', 'EVER', 'DUG', 'IS', 'ONLY', 'ABOUT', '123', 'KILOMETERS', 'OR', '76', 'MILES', 'WE', 'KNOW', 'SOMETHING', 'ABOUT', 'THE', 'INSIDE', 'OF', 'THE', 'EARTH', 'BECAUSE', 'WE', 'LEARN', 'THINGS', 'FROM', 'EARTHQUAKES', 'AND', 'VOLCANIC', 'ERUPTIONS', 'WE', 'CAN', 'DETECT', 'HOW', 'QUICKLY', 'SHOCK', 'WAVES', 'MOVE', 'THROUGH', 'THE', 'EARTH', 'THE', 'INSIDE', 'OF', 'EARTH', 'IS', 'VERY', 'DIFFERENT', 'FROM', 'THE', 'OUTSIDE', 'ALMOST', 'ALL', 'OF', 'EARTHS', 'LIQUID', 'WATER', 'IS', 'IN', 'THE', 'SEAS', 'OR', 'CLOSE', 'TO', 'THE', 'SURFACE', 'THE', 'SURFACE', 'ALSO', 'HAS', 'A', 'LOT', 'OF', 'OXYGEN', 'WHICH', 'COMES', 'FROM', 'PLANTS', 'SMALL', 'AND', 'SIMPLE', 'KINDS', 'OF', 'LIFE', 'CAN', 'LIVE', 'FAR', 'UNDER', 'THE', 'SURFACE', 'BUT', 'ANIMALS', 'AND', 'PLANTS', 'ONLY', 'LIVE', 'ON', 'THE', 'SURFACE', 'OR', 'IN', 'THE', 'SEAS', 'THE', 'ROCKS', 'ON', 'THE', 'SURFACE', 'OF', 'EARTH', 'EARTHS', 'CRUST', 'ARE', 'WELL', 'KNOWN', 'THEY', 'ARE', 'THICKER', 'WHERE', 'THERE', 'IS', 'LAND', 'BETWEEN', '30', 'TO', '50', 'KM', 'OR', '19', 'TO', '31', 'MI', 'THICK', 'UNDER', 'THE', 'SEAS', 'THEY', 'ARE', 'SOMETIMES', 'ONLY', '6', 'KM', 'OR', '37', 'MI', 'THICK65', 'THERE', 'ARE', 'THREE', 'GROUPS', 'OF', 'ROCKS', 'THAT', 'MAKE', 'UP', 'MOST', 'OF', 'THE', 'EARTHS', 'CRUST', 'SOME', 'ROCK', 'IS', 'MADE', 'WHEN', 'THE', 'HOT', 'LIQUID', 'ROCK', 'COMES', 'FROM', 'INSIDE', 'THE', 'EARTH', 'IGNEOUS', 'ROCKS', 'ANOTHER', 'TYPE', 'OF', 'ROCK', 'IS', 'MADE', 'WHEN', 'SEDIMENT', 'IS', 'LAID', 'DOWN', 'USUALLY', 'UNDER', 'THE', 'SEA', 'SEDIMENTARY', 'ROCKS', 'AND', 'A', 'THIRD', 'KIND', 'OF', 'ROCK', 'IS', 'MADE', 'WHEN', 'THE', 'OTHER', 'TWO', 'ARE', 'CHANGED', 'BY', 'VERY', 'HIGH', 'TEMPERATURE', 'OR', 'PRESSURE', 'METAMORPHIC', 'ROCKS', 'BELOW', 'THE', 'CRUST', 'IS', 'HOT', 'AND', 'ALMOSTLIQUID', 'ROCK', 'WHICH', 'IS', 'ALWAYS', 'MOVING', 'AROUND', 'THE', 'EARTHS', 'MANTLE', 'THEN', 'THERE', 'IS', 'A', 'THIN', 'LIQUID', 'LAYER', 'OF', 'HEATED', 'ROCK', 'THE', 'OUTER', 'CORE', 'THIS', 'IS', 'VERY', 'HOT', '7000', '°C', 'OR', '13000', '°F', 'OR', '7300', 'K66', 'THE', 'MIDDLE', 'OF', 'THE', 'INSIDE', 'OF', 'THE', 'EARTH', 'WOULD', 'BE', 'LIQUID', 'AS', 'WELL', 'BUT', 'ALL', 'THE', 'PRESSURE', 'OF', 'THE', 'ROCK', 'ABOVE', 'IT', 'MAKES', 'IT', 'A', 'SOLID', 'THIS', 'SOLID', 'MIDDLE', 'PART', 'THE', 'INNER', 'CORE', 'IS', 'ALMOST', 'ALL', 'IRON', 'IT', 'IS', 'WHAT', 'MAKES', 'THE', 'EARTH', 'MAGNETIC', 'PIECES', 'OF', 'THE', 'CRUST', 'FORM', 'PLATES', 'CHANGE', 'CHANGE', 'SOURCE', 'A', 'PICTURE', 'SHOWING', 'THE', 'EARTHS', 'LARGEST', 'AND', 'MOST', 'IMPORTANT', 'PLATES', 'SEE', 'THE', 'MAIN', 'ARTICLE', 'PLATE', 'TECTONICS', 'THE', 'EARTHS', 'CRUST', 'IS', 'SOLID', 'BUT', 'MADE', 'OF', 'PARTS', 'WHICH', 'MOVE', 'VERY', 'SLOWLY67', 'THE', 'THIN', 'SKIN', 'OF', 'HARD', 'ROCK', 'ON', 'THE', 'OUTSIDE', 'OF', 'THE', 'EARTH', 'RESTS', 'ON', 'HOT', 'LIQUID', 'MATERIAL', 'BELOW', 'IT', 'IN', 'THE', 'DEEPER', 'MANTLE68', 'THIS', 'LIQUID', 'MATERIAL', 'MOVES', 'BECAUSE', 'IT', 'GETS', 'HEAT', 'FROM', 'THE', 'HOT', 'CENTER', 'OF', 'THE', 'EARTH', 'THE', 'SLOW', 'MOVEMENT', 'OF', 'THE', 'PLATES', 'IS', 'A', 'FACTOR', 'IN', 'EARTHQUAKES', 'VOLCANOES', 'AND', 'LARGE', 'GROUPS', 'OF', 'MOUNTAINS', 'ON', 'THE', 'EARTH', 'THERE', 'ARE', 'THREE', 'WAYS', 'PLATES', 'CAN', 'COME', 'TOGETHER', 'TWO', 'PLATES', 'CAN', 'MOVE', 'TOWARDS', 'EACH', 'OTHER', 'CONVERGENT', 'PLATE', 'EDGES', 'THIS', 'CAN', 'FORM', 'ISLANDS', 'VOLCANOES', 'AND', 'HIGH', 'MOUNTAIN', 'RANGES', 'SUCH', 'AS', 'THE', 'ANDES', 'AND', 'HIMALAYAS69', 'TWO', 'PLATES', 'CAN', 'MOVE', 'AWAY', 'FROM', 'EACH', 'OTHER', 'DIVERGENT', 'PLATE', 'EDGES', 'THIS', 'GIVES', 'THE', 'WARM', 'LIQUID', 'ROCK', 'INSIDE', 'THE', 'EARTH', 'A', 'PLACE', 'TO', 'COME', 'OUT', 'THIS', 'MAKES', 'SPECIAL', 'MOUNTAIN', 'RANGES', 'BELOW', 'THE', 'SEA', 'OR', 'LARGE', 'LOW', 'LANDS', 'LIKE', 'AFRICAS', 'GREAT', 'RIFT', 'VALLEY7071', 'PLATES', 'ARE', 'ABLE', 'TO', 'MOVE', 'BESIDE', 'EACH', 'OTHER', 'AS', 'WELL', 'TRANSFORM', 'PLATE', 'EDGES', 'SUCH', 'AS', 'THE', 'SAN', 'ANDREAS', 'FAULT', 'THIS', 'MAKES', 'THEIR', 'EDGES', 'CRUSH', 'AGAINST', 'EACH', 'OTHER', 'AND', 'MAKES', 'MANY', 'SHOCKS', 'AS', 'THEY', 'MOVE72', 'THE', 'OUTSIDE', 'OF', 'THE', 'EARTH', 'IS', 'NOT', 'EVEN', 'THERE', 'ARE', 'HIGH', 'PLACES', 'CALLED', 'MOUNTAINS', 'AND', 'HIGH', 'FLAT', 'PLACES', 'CALLED', 'PLATEAUS', 'OR', 'PLATEAUX', 'THERE', 'ARE', 'LOW', 'PLACES', 'CALLED', 'VALLEYS', 'AND', 'CANYONS', 'FOR', 'THE', 'MOST', 'PART', 'MOVING', 'AIR', 'AND', 'WATER', 'FROM', 'THE', 'SKY', 'AND', 'SEAS', 'EATS', 'AWAY', 'AT', 'ROCKS', 'IN', 'HIGH', 'PLACES', 'AND', 'BREAKS', 'THEM', 'INTO', 'SMALL', 'PIECES', 'THE', 'AIR', 'AND', 'WATER', 'THEN', 'MOVE', 'THESE', 'PIECES', 'TO', 'LOWER', 'PLACES', 'THE', 'FUNDAMENTAL', 'CAUSE', 'OF', 'THE', 'DIFFERENCES', 'IN', 'THE', 'EARTHS', 'SURFACE', 'IS', 'PLATE', 'TECTONICS', 'THE', 'SHAPE', 'OF', 'THE', 'ENTIRE', 'PLANET', 'ITSELF', 'IS', 'NOT', 'A', 'EXACTLY', 'A', 'BALL', 'BECAUSE', 'OF', 'ITS', 'SPIN', 'EARTH', 'HAS', 'A', 'SLIGHT', 'BULGE', 'AT', 'THE', 'EQUATOR', 'ALL', 'PLACES', 'ON', 'EARTH', 'ARE', 'MADE', 'OF', 'OR', 'ARE', 'ON', 'TOP', 'OF', 'ROCKS', 'THE', 'OUTSIDE', 'OF', 'THE', 'EARTH', 'IS', 'USUALLY', 'NOT', 'UNCOVERED', 'ROCK', 'OVER', '70', 'OF', 'THE', 'EARTH', 'IS', 'COVERED', 'BY', 'SEAS', 'FULL', 'OF', 'SALTY', 'WATER73', 'THIS', 'SALTY', 'WATER', 'MAKES', 'UP', 'ABOUT', '97\\u200b1⁄', '2', 'OF', 'ALL', 'EARTHS', 'WATER', 'THE', 'DRINKABLE', 'FRESH', 'WATER', 'IS', 'MOSTLY', 'IN', 'THE', 'FORM', 'OF', 'ICE', 'THERE', 'IS', 'ONLY', 'A', 'SMALL', 'AMOUNT', 'LESS', 'THAN', '3', 'OF', 'FRESH', 'WATER', 'IN', 'RIVERS', 'AND', 'UNDER', 'THE', 'GROUND', 'FOR', 'PEOPLE', 'TO', 'DRINK74', 'GRAVITY', 'STOPS', 'THE', 'WATER', 'FROM', 'GOING', 'AWAY', 'INTO', 'OUTER', 'SPACE', 'ALSO', 'MUCH', 'OF', 'THE', 'LAND', 'ON', 'EARTH', 'IS', 'COVERED', 'WITH', 'PLANTS', 'OR', 'WITH', 'WHAT', 'IS', 'LEFT', 'FROM', 'EARLIER', 'LIVING', 'THINGS', 'PLACES', 'WITH', 'VERY', 'LITTLE', 'RAIN', 'ARE', 'DRY', 'WASTES', 'CALLED', 'DESERTS', 'DESERTS', 'USUALLY', 'HAVE', 'FEW', 'LIVING', 'THINGS', 'BUT', 'LIFE', 'IS', 'ABLE', 'TO', 'GROW', 'VERY', 'QUICKLY', 'WHEN', 'THESE', 'WASTES', 'HAVE', 'RAINFALL', 'PLACES', 'WITH', 'LARGE', 'AMOUNTS', 'OF', 'RAIN', 'MAY', 'BE', 'RAIN', 'FORESTS', 'LATELY', 'PEOPLE', 'HAVE', 'CHANGED', 'THE', 'ENVIRONMENT', 'OF', 'THE', 'EARTH', 'A', 'GREAT', 'DEAL', 'AS', 'POPULATION', 'HAS', 'INCREASED', 'SO', 'HAS', 'FARMING', 'FARMING', 'IS', 'DONE', 'ON', 'WHAT', 'WERE', 'ONCE', 'NATURAL', 'FORESTS', 'AND', 'GRASSLAND7576', 'SEE', 'THE', 'MAIN', 'ARTICLE', 'ATMOSPHERE', 'ALL', 'AROUND', 'THE', 'EARTH', 'IS', 'THE', 'OF', 'AIR', 'THE', 'ATMOSPHERE', 'THE', 'MASS', 'OF', 'THE', 'EARTH', 'HOLDS', 'THE', 'GASSES', 'IN', 'THE', 'AIR', 'DOWN', 'AND', 'DOES', 'NOT', 'LET', 'THEM', 'GO', 'INTO', 'OUTER', 'SPACE', 'THE', 'AIR', 'IS', 'MOSTLY', 'MADE', 'OF', 'NITROGEN', 'ABOUT', '78', 'AND', 'OXYGEN', 'ABOUT', '21', 'AND', 'THERE', 'ARE', 'A', 'FEW', 'OTHER', 'GASSES', 'AS', 'WELL77', 'LIVING', 'THINGS', 'NEED', 'BOTH', 'THE', 'AIR', 'AND', 'WATER', 'THE', 'AIR', 'WHICH', 'ANIMALS', 'AND', 'PLANTS', 'USE', 'TO', 'LIVE', 'IS', 'ONLY', 'THE', 'FIRST', 'LEVEL', 'OF', 'THE', 'AIR', 'AROUND', 'THE', 'EARTH', 'THE', 'TROPOSPHERE', 'THE', 'DAY', 'TO', 'DAY', 'CHANGES', 'IN', 'THIS', 'LEVEL', 'OF', 'AIR', 'ARE', 'CALLED', 'WEATHER', 'THE', 'LARGER', 'DIFFERENCES', 'BETWEEN', 'DISTANT', 'PLACES', 'AND', 'FROM', 'YEAR', 'TO', 'YEAR', 'ARE', 'CALLED', 'THE', 'CLIMATE', 'RAIN', 'AND', 'STORMS', 'COME', 'ABOUT', 'BECAUSE', 'THIS', 'PART', 'OF', 'THE', 'AIR', 'GETS', 'COLDER', 'AS', 'IT', 'GOES', 'UP', 'COLD', 'AIR', 'BECOMES', 'THICKER', 'AND', 'FALLS', 'AND', 'WARM', 'AIR', 'BECOMES', 'THINNER', 'AND', 'GOES', 'UP78', 'THE', 'TURNING', 'EARTH', 'ALSO', 'MOVES', 'THE', 'AIR', 'AS', 'WELL', 'AND', 'AIR', 'MOVES', 'NORTH', 'AND', 'SOUTH', 'BECAUSE', 'THE', 'MIDDLE', 'OF', 'THE', 'EARTH', 'GENERALLY', 'GETS', 'MORE', 'POWER', 'FROM', 'THE', 'SUN', 'AND', 'IS', 'WARMER', 'THAN', 'THE', 'NORTH', 'AND', 'SOUTH', 'POINTS', 'AIR', 'OVER', 'WARM', 'WATER', 'EVAPORATES', 'BUT', 'BECAUSE', 'COLD', 'AIR', 'IS', 'NOT', 'ABLE', 'TO', 'TAKE', 'IN', 'AS', 'MUCH', 'WATER', 'IT', 'STARTS', 'TO', 'MAKE', 'CLOUDS', 'AND', 'RAIN', 'AS', 'IT', 'GETS', 'COLDER', 'THE', 'WAY', 'WATER', 'MOVES', 'AROUND', 'IN', 'A', 'CIRCLE', 'LIKE', 'THIS', 'IS', 'CALLED', 'THE', 'WATER', 'CYCLE78', 'ABOVE', 'THIS', 'FIRST', 'LEVEL', 'THERE', 'ARE', 'FOUR', 'OTHER', 'LEVELS', 'THE', 'AIR', 'GETS', 'COLDER', 'AS', 'IT', 'GOES', 'UP', 'IN', 'THE', 'FIRST', 'LEVEL', 'IN', 'THE', 'SECOND', 'LEVEL', 'THE', 'STRATOSPHERE', 'THE', 'AIR', 'GETS', 'WARMER', 'AS', 'IT', 'GOES', 'UP', 'THIS', 'LEVEL', 'HAS', 'A', 'SPECIAL', 'KIND', 'OF', 'OXYGEN', 'CALLED', 'OZONE', 'THE', 'OZONE', 'IN', 'THIS', 'AIR', 'KEEPS', 'LIVING', 'THINGS', 'SAFE', 'FROM', 'DAMAGING', 'RAYS', 'FROM', 'THE', 'SUN', 'THE', 'POWER', 'FROM', 'THESE', 'RAYS', 'IS', 'WHAT', 'MAKES', 'THIS', 'LEVEL', 'WARMER', 'AND', 'WARMER', 'THE', 'MIDDLE', 'LEVEL', 'THE', 'MESOSPHERE', 'GETS', 'COLDER', 'AND', 'COLDER', 'WITH', 'HEIGHT', 'THE', 'FOURTH', 'LEVEL', 'THE', 'THERMOSPHERE', 'GETS', 'WARMER', 'AND', 'WARMER', 'AND', 'THE', 'LAST', 'LEVEL', 'THE', 'EXOSPHERE', 'IS', 'ALMOST', 'OUTER', 'SPACE', 'AND', 'HAS', 'VERY', 'LITTLE', 'AIR', 'AT', 'ALL', 'IT', 'REACHES', 'ABOUT', 'HALF', 'THE', 'WAY', 'TO', 'THE', 'MOON', 'THE', 'THREE', 'OUTER', 'LEVELS', 'HAVE', 'A', 'LOT', 'OF', 'ELECTRIC', 'POWER', 'MOVING', 'THROUGH', 'THEM', 'THIS', 'IS', 'CALLED', 'THE', 'IONOSPHERE', 'AND', 'IS', 'IMPORTANT', 'FOR', 'RADIO', 'AND', 'OTHER', 'ELECTRIC', 'WAVES', 'IN', 'THE', 'AIR', 'EVEN', 'THOUGH', 'AIR', 'SEEMS', 'VERY', 'LIGHT', 'THE', 'WEIGHT', 'OF', 'ALL', 'OF', 'THE', 'AIR', 'ABOVE', 'THE', 'OUTSIDE', 'OF', 'THE', 'EARTH', 'AIR', 'PRESSURE', 'IS', 'IMPORTANT', 'GENERALLY', 'FROM', 'SEA', 'LEVEL', 'TO', 'THE', 'TOP', 'OF', 'THE', 'OUTER', 'LEVEL', 'OF', 'THE', 'AIR', 'A', 'SPACE', 'OF', 'AIR', 'ONE', 'CM2', 'ACROSS', 'HAS', 'A', 'MASS', 'OF', 'ABOUT', '103', 'KG', 'AND', 'A', 'SPACE', 'OF', 'AIR', 'ONE', 'SQ', 'IN', 'ACROSS', 'HAS', 'A', 'WEIGHT', 'OF', 'ABOUT', '147', 'LB', 'BECAUSE', 'OF', 'FRICTION', 'IN', 'THE', 'AIR', 'SMALL', 'METEORITES', 'GENERALLY', 'BURN', 'UP', 'LONG', 'BEFORE', 'THEY', 'GET', 'TO', 'THE', 'EARTH', 'THE', 'AIR', 'ALSO', 'KEEPS', 'THE', 'EARTH', 'WARM', 'SPECIALLY', 'THE', 'HALF', 'TURNED', 'AWAY', 'FROM', 'THE', 'SUN', 'SOME', 'GASSES', '–', 'ESPECIALLY', 'METHANE', 'AND', 'CARBON', 'DIOXIDE', '–', 'WORK', 'LIKE', 'A', 'BLANKET', 'TO', 'KEEP', 'THINGS', 'WARM79', 'IN', 'THE', 'PAST', 'THE', 'EARTH', 'HAS', 'BEEN', 'MUCH', 'WARMER', 'AND', 'MUCH', 'COLDER', 'THAN', 'IT', 'IS', 'NOW', 'SINCE', 'PEOPLE', 'HAVE', 'ADAPTED', 'TO', 'THE', 'HEAT', 'WE', 'HAVE', 'NOW', 'WE', 'DO', 'NOT', 'WANT', 'THE', 'EARTH', 'TO', 'BE', 'TOO', 'MUCH', 'WARMER', 'OR', 'COLDER', 'MOST', 'OF', 'THE', 'WAYS', 'PEOPLE', 'CREATE', 'ELECTRIC', 'POWER', 'USE', 'BURNING', 'KINDS', 'OF', 'CARBON', '–', 'ESPECIALLY', 'COAL', 'OIL', 'AND', 'NATURAL', 'GAS', 'BURNING', 'THESE', 'FUELS', 'CREATES', 'MORE', 'CARBON', 'DIOXIDE', 'WHICH', 'CAUSES', 'MORE', 'WARMING', 'A', 'DISCUSSION', 'IS', 'GOING', 'ON', 'NOW', 'ABOUT', 'WHAT', 'PEOPLE', 'SHOULD', 'DO', 'ABOUT', 'THE', 'EARTHS', 'LATEST', 'WARMING', 'WHICH', 'HAS', 'GONE', 'ON', 'FOR', 'ABOUT', '150', 'YEARS', 'SO', 'FAR', 'THIS', 'WARMING', 'HAS', 'BEEN', 'ACCEPTABLE', 'PLANTS', 'HAVE', 'GROWN', 'BETTER', 'THE', 'WEATHER', 'HAS', 'GENERALLY', 'BEEN', 'BETTER', 'THAN', 'WHEN', 'IT', 'WAS', 'COLDER', 'SEE', 'THE', 'MAIN', 'ARTICLE', 'HUMAN', 'ABOUT', 'EIGHT', 'BILLION', 'PEOPLE', 'LIVE', 'ON', 'EARTH', 'THEY', 'LIVE', 'IN', 'ABOUT', '200', 'DIFFERENT', 'LANDS', 'CALLED', 'COUNTRIES', 'SOME', 'FOR', 'EXAMPLE', 'RUSSIA', 'ARE', 'LARGE', 'WITH', 'MANY', 'LARGE', 'CITIES', 'OTHERS', 'FOR', 'EXAMPLE', 'VATICAN', 'CITY', 'ARE', 'SMALL', 'THE', 'SEVEN', 'COUNTRIES', 'WITH', 'THE', 'MOST', 'PEOPLE', 'ARE', 'INDIA', 'CHINA', 'THE', 'UNITED', 'STATES', 'INDONESIA', 'PAKISTAN', 'BRAZIL', 'AND', 'NIGERIA', 'ABOUT', '90', 'OF', 'PEOPLE', 'LIVE', 'IN', 'THE', 'NORTHERN', 'HEMISPHERE', 'OF', 'THE', 'WORLD', 'WHICH', 'HAS', 'MOST', 'OF', 'THE', 'LAND', 'HUMAN', 'BEINGS', 'ORIGINALLY', 'CAME', 'FROM', 'AFRICA', 'NOW', '70', 'OF', 'ALL', 'PEOPLE', 'DO', 'NOT', 'LIVE', 'IN', 'AFRICA', 'BUT', 'IN', 'EUROPE', 'AND', 'ASIA80', 'THE', 'DISTRIBUTION', 'OF', 'HUMAN', 'WORLD', 'POPULATION', 'IN', '2018', 'PEOPLE', 'CHANGE', 'THE', 'EARTH', 'IN', 'MANY', 'WAYS', 'THEY', 'HAVE', 'BEEN', 'ABLE', 'TO', 'GROW', 'PLANTS', 'FOR', 'FOOD', 'AND', 'CLOTHES', 'FOR', 'ABOUT', 'TEN', 'THOUSAND', 'YEARS', 'WHEN', 'THERE', 'WAS', 'ENOUGH', 'FOOD', 'THEY', 'WERE', 'ABLE', 'TO', 'BUILD', 'TOWNS', 'AND', 'CITIES', 'NEAR', 'THESE', 'PLACES', 'MEN', 'AND', 'WOMEN', 'WERE', 'ABLE', 'TO', 'CHANGE', 'RIVERS', 'BRING', 'WATER', 'TO', 'FARMS', 'AND', 'STOP', 'FLOODS', 'RISING', 'WATER', 'FROM', 'COMING', 'OVER', 'THEIR', 'LAND', 'PEOPLE', 'FOUND', 'USEFUL', 'ANIMALS', 'AND', 'BRED', 'THEM', 'SO', 'THEY', 'WERE', 'EASIER', 'TO', 'KEEP81', 'THERE', 'IS', 'WIDE', 'AGREEMENT', 'THAT', 'THE', 'LONGTERM', 'FUTURE', 'OF', 'EARTH', 'IS', 'TIED', 'TO', 'THE', 'FUTURE', 'OF', 'THE', 'SUN82', 'AS', 'TIME', 'PASSES', 'THE', 'SUN', 'WILL', 'GET', 'HOTTER', 'AND', 'THAT', 'WILL', 'EVENTUALLY', 'MAKE', 'THE', 'EARTH', 'A', 'PLANET', 'WITHOUT', 'LIFE', 'RELATED', 'PAGES', 'CHANGE', 'CHANGE', 'SOURCE']\n"
          ]
        }
      ],
      "source": [
        "#create a function to return Upper case words\n",
        "def LemNormalize(text):\n",
        "  return nltk.word_tokenize(text.upper().translate(remove_punct_dict))\n",
        "print(LemNormalize(text))"
      ]
    },
    {
      "cell_type": "code",
      "execution_count": null,
      "metadata": {
        "id": "KEO4IkEDUBPe"
      },
      "outputs": [],
      "source": [
        "#keywords for greetings\n",
        "greeting_input=[\"hello\", \"hi\", \"greetings\", \"sup\", \"what's up\",\"hey\"]\n",
        "greeting_response=[\"hi\", \"hey\", \"*nods*\", \"hi there\", \"hello\", \"I am glad! You are talking to me\"]\n",
        "def greeting(sentence):\n",
        "  for word in sentence.split():\n",
        "    if word.lower() in greeting_input:\n",
        "      return random.choice(greeting_response)"
      ]
    },
    {
      "cell_type": "code",
      "execution_count": null,
      "metadata": {
        "execution": {
          "iopub.execute_input": "2024-02-14T13:26:29.035786Z",
          "iopub.status.busy": "2024-02-14T13:26:29.035273Z",
          "iopub.status.idle": "2024-02-14T13:26:29.045315Z",
          "shell.execute_reply": "2024-02-14T13:26:29.043957Z",
          "shell.execute_reply.started": "2024-02-14T13:26:29.035749Z"
        },
        "id": "k6VK2PEQYaAM"
      },
      "outputs": [],
      "source": [
        "def response(user_response):\n",
        " #user response and robo responce\n",
        "  #user_response=\"WHat is chronic disease\"\n",
        "  user_response=user_response.lower()\n",
        "  user_response=user_response.upper()\n",
        "  #print(user_response)\n",
        "  #robo response\n",
        "  robo_response=''\n",
        "  sent_tokens.append(user_response)\n",
        "  #print(sent_tokens)\n",
        "  tfidfvec=TfidfVectorizer(tokenizer=LemNormalize , stop_words='english')\n",
        "  tfidf=tfidfvec.fit_transform(sent_tokens)\n",
        "  #print(tfidf)\n",
        "  #get similarity score\n",
        "  val=cosine_similarity(tfidf[-1],tfidf)\n",
        "  #print(val)\n",
        "  idx=val.argsort()[0][-2]\n",
        "  flat=val.flatten()\n",
        "  flat.sort()\n",
        "  score=flat[-2]\n",
        "  #print(score)\n",
        "  if score==0:\n",
        "    robo_response=robo_response+\"sorry,i dont understand\"\n",
        "  else:\n",
        "    robo_response=robo_response+sent_tokens[idx]\n",
        "\n",
        "  sent_tokens.remove(user_response)\n",
        "  return robo_response"
      ]
    },
    {
      "cell_type": "code",
      "execution_count": null,
      "metadata": {
        "colab": {
          "base_uri": "https://localhost:8080/"
        },
        "execution": {
          "iopub.execute_input": "2024-02-14T13:27:29.784663Z",
          "iopub.status.busy": "2024-02-14T13:27:29.784166Z",
          "iopub.status.idle": "2024-02-14T13:27:32.311911Z",
          "shell.execute_reply": "2024-02-14T13:27:32.310384Z",
          "shell.execute_reply.started": "2024-02-14T13:27:29.784630Z"
        },
        "id": "GuRVBgvSldFl",
        "outputId": "fec7db6d-7593-4317-ed8d-05ff2e25968d"
      },
      "outputs": [
        {
          "output_type": "stream",
          "name": "stdout",
          "text": [
            "hello!!! this is HKS,BOT,i can answer your queris related to Anything just you have to wiki url ,type bye to exit\n",
            "\n",
            "USER:earth\n",
            "HKS BOT:[53]\n",
            "\n",
            "Geology of Earth [ change | change source ]\n",
            "\n",
            "Earth is rocky.\n",
            "\n",
            "USER:distance from sun \n",
            "HKS BOT:[40][41]\n",
            "\n",
            "Earth is about 150,000,000 kilometres or 93,000,000 miles away from the Sun (this distance is called an \"astronomical unit\" or au.\n",
            "\n",
            "USER:bye\n",
            "HKS BOT: see you later :)\n"
          ]
        }
      ],
      "source": [
        "greeting_input=[\"hi\",\"hello\",\"hey\",\"hola\"]\n",
        "greeting_response=[\"howdy\",\"hey there\",\"hi\",\"hello :)\"]\n",
        "def greeting(sentence):\n",
        "  for word in sentence.split():\n",
        "    if word.lower() in greeting_input:\n",
        "      return random.choice(greeting_response)\n",
        "flag=True\n",
        "print(\"hello!!! this is HKS,BOT,i can answer your queris related to Anything just you have to wiki url ,type bye to exit\")\n",
        "while(flag==True):\n",
        "  user_response=input(\"\\nUSER:\")\n",
        "  #user_response=user_response.lower()\n",
        "  if(user_response!='bye'):\n",
        "    if(user_response=='thanks' or user_response=='thank you'):\n",
        "      flag=False\n",
        "      print(\"HKS BOT: anytime :)\")\n",
        "    else:\n",
        "       if( greeting(user_response) != None):\n",
        "         print(\"HKS BOT: \"+ greeting(user_response))\n",
        "       else:\n",
        "         print(\"HKS BOT:\"+response(user_response))\n",
        "  else:\n",
        "    flag=False\n",
        "    print(\"HKS BOT: see you later :)\")"
      ]
    }
  ],
  "metadata": {
    "colab": {
      "provenance": [],
      "toc_visible": true,
      "include_colab_link": true
    },
    "kaggle": {
      "accelerator": "none",
      "dataSources": [],
      "dockerImageVersionId": 30646,
      "isGpuEnabled": false,
      "isInternetEnabled": true,
      "language": "python",
      "sourceType": "notebook"
    },
    "kernelspec": {
      "display_name": "Python 3 (ipykernel)",
      "language": "python",
      "name": "python3"
    },
    "language_info": {
      "codemirror_mode": {
        "name": "ipython",
        "version": 3
      },
      "file_extension": ".py",
      "mimetype": "text/x-python",
      "name": "python",
      "nbconvert_exporter": "python",
      "pygments_lexer": "ipython3",
      "version": "3.11.5"
    }
  },
  "nbformat": 4,
  "nbformat_minor": 0
}